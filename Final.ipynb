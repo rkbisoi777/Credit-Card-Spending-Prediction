{
 "cells": [
  {
   "cell_type": "code",
   "execution_count": 1,
   "metadata": {},
   "outputs": [],
   "source": [
    "import pandas as pd\n",
    "import numpy as np\n",
    "import matplotlib.pyplot as plt\n",
    "%matplotlib inline\n",
    "import seaborn as sns\n",
    "import math\n",
    "from scipy.stats import iqr"
   ]
  },
  {
   "cell_type": "code",
   "execution_count": 2,
   "metadata": {},
   "outputs": [],
   "source": [
    "data = pd.read_csv('Train.csv')"
   ]
  },
  {
   "cell_type": "code",
   "execution_count": 3,
   "metadata": {},
   "outputs": [
    {
     "data": {
      "text/plain": [
       "Index(['ID', 'account_type', 'gender', 'age', 'region_code', 'dc_cons_apr',\n",
       "       'dc_cons_may', 'dc_cons_jun', 'cc_count_apr', 'cc_count_may',\n",
       "       'cc_count_jun', 'dc_count_apr', 'dc_count_may', 'dc_count_jun',\n",
       "       'card_lim', 'personal_loan_active', 'vehicle_loan_active',\n",
       "       'personal_loan_closed', 'vehicle_loan_closed', 'investment_1',\n",
       "       'investment_2', 'investment_3', 'investment_4', 'debit_amount_apr',\n",
       "       'credit_amount_apr', 'debit_count_apr', 'credit_count_apr',\n",
       "       'max_credit_amount_apr', 'debit_amount_may', 'credit_amount_may',\n",
       "       'credit_count_may', 'debit_count_may', 'max_credit_amount_may',\n",
       "       'debit_amount_jun', 'credit_amount_jun', 'credit_count_jun',\n",
       "       'debit_count_jun', 'max_credit_amount_jun', 'loan_enq', 'cc_cons'],\n",
       "      dtype='object')"
      ]
     },
     "execution_count": 3,
     "metadata": {},
     "output_type": "execute_result"
    }
   ],
   "source": [
    "data.columns"
   ]
  },
  {
   "cell_type": "code",
   "execution_count": 4,
   "metadata": {},
   "outputs": [
    {
     "data": {
      "text/html": [
       "<div>\n",
       "<style scoped>\n",
       "    .dataframe tbody tr th:only-of-type {\n",
       "        vertical-align: middle;\n",
       "    }\n",
       "\n",
       "    .dataframe tbody tr th {\n",
       "        vertical-align: top;\n",
       "    }\n",
       "\n",
       "    .dataframe thead th {\n",
       "        text-align: right;\n",
       "    }\n",
       "</style>\n",
       "<table border=\"1\" class=\"dataframe\">\n",
       "  <thead>\n",
       "    <tr style=\"text-align: right;\">\n",
       "      <th></th>\n",
       "      <th>ID</th>\n",
       "      <th>age</th>\n",
       "      <th>region_code</th>\n",
       "      <th>dc_cons_apr</th>\n",
       "      <th>dc_cons_may</th>\n",
       "      <th>dc_cons_jun</th>\n",
       "      <th>cc_count_apr</th>\n",
       "      <th>cc_count_may</th>\n",
       "      <th>cc_count_jun</th>\n",
       "      <th>dc_count_apr</th>\n",
       "      <th>...</th>\n",
       "      <th>credit_amount_may</th>\n",
       "      <th>credit_count_may</th>\n",
       "      <th>debit_count_may</th>\n",
       "      <th>max_credit_amount_may</th>\n",
       "      <th>debit_amount_jun</th>\n",
       "      <th>credit_amount_jun</th>\n",
       "      <th>credit_count_jun</th>\n",
       "      <th>debit_count_jun</th>\n",
       "      <th>max_credit_amount_jun</th>\n",
       "      <th>cc_cons</th>\n",
       "    </tr>\n",
       "  </thead>\n",
       "  <tbody>\n",
       "    <tr>\n",
       "      <td>count</td>\n",
       "      <td>15000.000000</td>\n",
       "      <td>15000.000000</td>\n",
       "      <td>15000.000000</td>\n",
       "      <td>6387.000000</td>\n",
       "      <td>7153.000000</td>\n",
       "      <td>5334.000000</td>\n",
       "      <td>13915.000000</td>\n",
       "      <td>14470.000000</td>\n",
       "      <td>14256.000000</td>\n",
       "      <td>6387.000000</td>\n",
       "      <td>...</td>\n",
       "      <td>1.352200e+04</td>\n",
       "      <td>14115.000000</td>\n",
       "      <td>14115.000000</td>\n",
       "      <td>1.352200e+04</td>\n",
       "      <td>1.405200e+04</td>\n",
       "      <td>1.432900e+04</td>\n",
       "      <td>14343.000000</td>\n",
       "      <td>14342.000000</td>\n",
       "      <td>1.432900e+04</td>\n",
       "      <td>15000.000000</td>\n",
       "    </tr>\n",
       "    <tr>\n",
       "      <td>mean</td>\n",
       "      <td>10032.077067</td>\n",
       "      <td>35.821400</td>\n",
       "      <td>556.877333</td>\n",
       "      <td>10923.114017</td>\n",
       "      <td>23528.110831</td>\n",
       "      <td>9118.916767</td>\n",
       "      <td>9.063600</td>\n",
       "      <td>9.493020</td>\n",
       "      <td>19.186518</td>\n",
       "      <td>5.285110</td>\n",
       "      <td>...</td>\n",
       "      <td>5.693594e+05</td>\n",
       "      <td>4.118030</td>\n",
       "      <td>14.028339</td>\n",
       "      <td>3.241828e+05</td>\n",
       "      <td>1.003265e+06</td>\n",
       "      <td>9.867396e+05</td>\n",
       "      <td>5.861954</td>\n",
       "      <td>16.176823</td>\n",
       "      <td>3.260935e+05</td>\n",
       "      <td>12268.175133</td>\n",
       "    </tr>\n",
       "    <tr>\n",
       "      <td>std</td>\n",
       "      <td>5760.372343</td>\n",
       "      <td>8.375531</td>\n",
       "      <td>192.645289</td>\n",
       "      <td>11056.411334</td>\n",
       "      <td>16522.533692</td>\n",
       "      <td>9933.749457</td>\n",
       "      <td>8.451949</td>\n",
       "      <td>9.062888</td>\n",
       "      <td>12.310610</td>\n",
       "      <td>6.198838</td>\n",
       "      <td>...</td>\n",
       "      <td>3.807421e+05</td>\n",
       "      <td>4.011986</td>\n",
       "      <td>11.533652</td>\n",
       "      <td>2.226731e+05</td>\n",
       "      <td>6.187201e+05</td>\n",
       "      <td>6.083321e+05</td>\n",
       "      <td>4.857434</td>\n",
       "      <td>13.648530</td>\n",
       "      <td>2.016090e+05</td>\n",
       "      <td>11847.712240</td>\n",
       "    </tr>\n",
       "    <tr>\n",
       "      <td>min</td>\n",
       "      <td>1.000000</td>\n",
       "      <td>22.000000</td>\n",
       "      <td>129.000000</td>\n",
       "      <td>15.615941</td>\n",
       "      <td>21.929843</td>\n",
       "      <td>31.457671</td>\n",
       "      <td>1.000000</td>\n",
       "      <td>1.000000</td>\n",
       "      <td>1.000000</td>\n",
       "      <td>1.000000</td>\n",
       "      <td>...</td>\n",
       "      <td>9.306745e+01</td>\n",
       "      <td>0.000000</td>\n",
       "      <td>0.000000</td>\n",
       "      <td>2.650332e+01</td>\n",
       "      <td>6.810641e+01</td>\n",
       "      <td>3.941829e+01</td>\n",
       "      <td>0.000000</td>\n",
       "      <td>0.000000</td>\n",
       "      <td>2.550365e+01</td>\n",
       "      <td>0.000000</td>\n",
       "    </tr>\n",
       "    <tr>\n",
       "      <td>25%</td>\n",
       "      <td>5060.500000</td>\n",
       "      <td>30.000000</td>\n",
       "      <td>450.750000</td>\n",
       "      <td>4832.873529</td>\n",
       "      <td>11160.115609</td>\n",
       "      <td>3923.840414</td>\n",
       "      <td>3.000000</td>\n",
       "      <td>3.000000</td>\n",
       "      <td>10.000000</td>\n",
       "      <td>1.000000</td>\n",
       "      <td>...</td>\n",
       "      <td>2.848119e+05</td>\n",
       "      <td>2.000000</td>\n",
       "      <td>6.000000</td>\n",
       "      <td>1.592213e+05</td>\n",
       "      <td>4.986986e+05</td>\n",
       "      <td>4.943571e+05</td>\n",
       "      <td>3.000000</td>\n",
       "      <td>6.000000</td>\n",
       "      <td>1.607323e+05</td>\n",
       "      <td>5435.000000</td>\n",
       "    </tr>\n",
       "    <tr>\n",
       "      <td>50%</td>\n",
       "      <td>10054.000000</td>\n",
       "      <td>34.000000</td>\n",
       "      <td>566.000000</td>\n",
       "      <td>9704.319537</td>\n",
       "      <td>22829.797859</td>\n",
       "      <td>7930.919138</td>\n",
       "      <td>7.000000</td>\n",
       "      <td>7.000000</td>\n",
       "      <td>18.000000</td>\n",
       "      <td>3.000000</td>\n",
       "      <td>...</td>\n",
       "      <td>5.652102e+05</td>\n",
       "      <td>3.000000</td>\n",
       "      <td>11.000000</td>\n",
       "      <td>3.219137e+05</td>\n",
       "      <td>1.004250e+06</td>\n",
       "      <td>9.741022e+05</td>\n",
       "      <td>5.000000</td>\n",
       "      <td>13.000000</td>\n",
       "      <td>3.233262e+05</td>\n",
       "      <td>10810.000000</td>\n",
       "    </tr>\n",
       "    <tr>\n",
       "      <td>75%</td>\n",
       "      <td>15015.250000</td>\n",
       "      <td>39.000000</td>\n",
       "      <td>710.000000</td>\n",
       "      <td>14710.421644</td>\n",
       "      <td>34492.057737</td>\n",
       "      <td>12004.033689</td>\n",
       "      <td>12.000000</td>\n",
       "      <td>13.000000</td>\n",
       "      <td>27.000000</td>\n",
       "      <td>7.000000</td>\n",
       "      <td>...</td>\n",
       "      <td>8.489730e+05</td>\n",
       "      <td>5.000000</td>\n",
       "      <td>19.000000</td>\n",
       "      <td>4.821599e+05</td>\n",
       "      <td>1.493722e+06</td>\n",
       "      <td>1.476865e+06</td>\n",
       "      <td>7.000000</td>\n",
       "      <td>22.000000</td>\n",
       "      <td>4.861349e+05</td>\n",
       "      <td>16394.000000</td>\n",
       "    </tr>\n",
       "    <tr>\n",
       "      <td>max</td>\n",
       "      <td>19998.000000</td>\n",
       "      <td>223.000000</td>\n",
       "      <td>977.000000</td>\n",
       "      <td>361712.821531</td>\n",
       "      <td>343536.313152</td>\n",
       "      <td>292828.344121</td>\n",
       "      <td>100.000000</td>\n",
       "      <td>130.000000</td>\n",
       "      <td>137.000000</td>\n",
       "      <td>62.000000</td>\n",
       "      <td>...</td>\n",
       "      <td>2.137043e+07</td>\n",
       "      <td>71.000000</td>\n",
       "      <td>171.000000</td>\n",
       "      <td>1.276041e+07</td>\n",
       "      <td>2.737828e+07</td>\n",
       "      <td>2.589564e+07</td>\n",
       "      <td>94.000000</td>\n",
       "      <td>162.000000</td>\n",
       "      <td>3.147874e+06</td>\n",
       "      <td>237021.000000</td>\n",
       "    </tr>\n",
       "  </tbody>\n",
       "</table>\n",
       "<p>8 rows × 37 columns</p>\n",
       "</div>"
      ],
      "text/plain": [
       "                 ID           age   region_code    dc_cons_apr    dc_cons_may  \\\n",
       "count  15000.000000  15000.000000  15000.000000    6387.000000    7153.000000   \n",
       "mean   10032.077067     35.821400    556.877333   10923.114017   23528.110831   \n",
       "std     5760.372343      8.375531    192.645289   11056.411334   16522.533692   \n",
       "min        1.000000     22.000000    129.000000      15.615941      21.929843   \n",
       "25%     5060.500000     30.000000    450.750000    4832.873529   11160.115609   \n",
       "50%    10054.000000     34.000000    566.000000    9704.319537   22829.797859   \n",
       "75%    15015.250000     39.000000    710.000000   14710.421644   34492.057737   \n",
       "max    19998.000000    223.000000    977.000000  361712.821531  343536.313152   \n",
       "\n",
       "         dc_cons_jun  cc_count_apr  cc_count_may  cc_count_jun  dc_count_apr  \\\n",
       "count    5334.000000  13915.000000  14470.000000  14256.000000   6387.000000   \n",
       "mean     9118.916767      9.063600      9.493020     19.186518      5.285110   \n",
       "std      9933.749457      8.451949      9.062888     12.310610      6.198838   \n",
       "min        31.457671      1.000000      1.000000      1.000000      1.000000   \n",
       "25%      3923.840414      3.000000      3.000000     10.000000      1.000000   \n",
       "50%      7930.919138      7.000000      7.000000     18.000000      3.000000   \n",
       "75%     12004.033689     12.000000     13.000000     27.000000      7.000000   \n",
       "max    292828.344121    100.000000    130.000000    137.000000     62.000000   \n",
       "\n",
       "       ...  credit_amount_may  credit_count_may  debit_count_may  \\\n",
       "count  ...       1.352200e+04      14115.000000     14115.000000   \n",
       "mean   ...       5.693594e+05          4.118030        14.028339   \n",
       "std    ...       3.807421e+05          4.011986        11.533652   \n",
       "min    ...       9.306745e+01          0.000000         0.000000   \n",
       "25%    ...       2.848119e+05          2.000000         6.000000   \n",
       "50%    ...       5.652102e+05          3.000000        11.000000   \n",
       "75%    ...       8.489730e+05          5.000000        19.000000   \n",
       "max    ...       2.137043e+07         71.000000       171.000000   \n",
       "\n",
       "       max_credit_amount_may  debit_amount_jun  credit_amount_jun  \\\n",
       "count           1.352200e+04      1.405200e+04       1.432900e+04   \n",
       "mean            3.241828e+05      1.003265e+06       9.867396e+05   \n",
       "std             2.226731e+05      6.187201e+05       6.083321e+05   \n",
       "min             2.650332e+01      6.810641e+01       3.941829e+01   \n",
       "25%             1.592213e+05      4.986986e+05       4.943571e+05   \n",
       "50%             3.219137e+05      1.004250e+06       9.741022e+05   \n",
       "75%             4.821599e+05      1.493722e+06       1.476865e+06   \n",
       "max             1.276041e+07      2.737828e+07       2.589564e+07   \n",
       "\n",
       "       credit_count_jun  debit_count_jun  max_credit_amount_jun        cc_cons  \n",
       "count      14343.000000     14342.000000           1.432900e+04   15000.000000  \n",
       "mean           5.861954        16.176823           3.260935e+05   12268.175133  \n",
       "std            4.857434        13.648530           2.016090e+05   11847.712240  \n",
       "min            0.000000         0.000000           2.550365e+01       0.000000  \n",
       "25%            3.000000         6.000000           1.607323e+05    5435.000000  \n",
       "50%            5.000000        13.000000           3.233262e+05   10810.000000  \n",
       "75%            7.000000        22.000000           4.861349e+05   16394.000000  \n",
       "max           94.000000       162.000000           3.147874e+06  237021.000000  \n",
       "\n",
       "[8 rows x 37 columns]"
      ]
     },
     "execution_count": 4,
     "metadata": {},
     "output_type": "execute_result"
    }
   ],
   "source": [
    "data.describe()"
   ]
  },
  {
   "cell_type": "code",
   "execution_count": 5,
   "metadata": {},
   "outputs": [
    {
     "data": {
      "text/plain": [
       "0        12554\n",
       "1        17645\n",
       "2         7604\n",
       "3         1590\n",
       "4        16556\n",
       "         ...  \n",
       "14995     6995\n",
       "14996    10376\n",
       "14997     2181\n",
       "14998    18417\n",
       "14999     4547\n",
       "Name: ID, Length: 15000, dtype: int64"
      ]
     },
     "execution_count": 5,
     "metadata": {},
     "output_type": "execute_result"
    }
   ],
   "source": [
    "data.pop('ID')"
   ]
  },
  {
   "cell_type": "code",
   "execution_count": 6,
   "metadata": {},
   "outputs": [
    {
     "data": {
      "text/plain": [
       "0        NaN\n",
       "1        NaN\n",
       "2          Y\n",
       "3        NaN\n",
       "4        NaN\n",
       "        ... \n",
       "14995    NaN\n",
       "14996    NaN\n",
       "14997    NaN\n",
       "14998    NaN\n",
       "14999    NaN\n",
       "Name: loan_enq, Length: 15000, dtype: object"
      ]
     },
     "execution_count": 6,
     "metadata": {},
     "output_type": "execute_result"
    }
   ],
   "source": [
    "data.pop('investment_1')\n",
    "data.pop('investment_2')\n",
    "data.pop('investment_3')\n",
    "data.pop('investment_4')\n",
    "data.pop('loan_enq')"
   ]
  },
  {
   "cell_type": "code",
   "execution_count": 7,
   "metadata": {},
   "outputs": [
    {
     "data": {
      "text/plain": [
       "<matplotlib.axes._subplots.AxesSubplot at 0x226d0f07308>"
      ]
     },
     "execution_count": 7,
     "metadata": {},
     "output_type": "execute_result"
    },
    {
     "data": {
      "image/png": "[encoded data removed]",
      "text/plain": [
       "<Figure size 432x288 with 1 Axes>"
      ]
     },
     "metadata": {
      "needs_background": "light"
     },
     "output_type": "display_data"
    }
   ],
   "source": [
    "data.isnull().sum().plot(kind='bar')"
   ]
  },
  {
   "cell_type": "code",
   "execution_count": 8,
   "metadata": {},
   "outputs": [
    {
     "data": {
      "text/plain": [
       "0        NaN\n",
       "1        NaN\n",
       "2        NaN\n",
       "3        NaN\n",
       "4        NaN\n",
       "        ... \n",
       "14995    NaN\n",
       "14996    1.0\n",
       "14997    1.0\n",
       "14998    NaN\n",
       "14999    NaN\n",
       "Name: personal_loan_closed, Length: 15000, dtype: float64"
      ]
     },
     "execution_count": 8,
     "metadata": {},
     "output_type": "execute_result"
    }
   ],
   "source": [
    "data['personal_loan_closed']"
   ]
  },
  {
   "cell_type": "code",
   "execution_count": 9,
   "metadata": {},
   "outputs": [],
   "source": [
    "data['personal_loan_closed'] = data['personal_loan_closed'].replace(np.nan,0)\n",
    "data['personal_loan_active'] = data['personal_loan_active'].replace(np.nan,0)\n",
    "data['vehicle_loan_closed'] = data['vehicle_loan_closed'].replace(np.nan,0)\n",
    "data['vehicle_loan_active'] = data['vehicle_loan_active'].replace(np.nan,0)"
   ]
  },
  {
   "cell_type": "code",
   "execution_count": 10,
   "metadata": {},
   "outputs": [],
   "source": [
    "data['dc_cons_apr'] = data['dc_cons_apr'].replace(np.nan,0)\n",
    "data['dc_cons_may'] = data['dc_cons_may'].replace(np.nan,0)\n",
    "data['dc_cons_jun'] = data['dc_cons_jun'].replace(np.nan,0)\n",
    "data['dc_count_apr'] = data['dc_count_apr'].replace(np.nan,0)\n",
    "data['dc_count_may'] = data['dc_count_may'].replace(np.nan,0)\n",
    "data['dc_count_jun'] = data['dc_count_jun'].replace(np.nan,0)"
   ]
  },
  {
   "cell_type": "code",
   "execution_count": 11,
   "metadata": {},
   "outputs": [
    {
     "data": {
      "text/plain": [
       "<matplotlib.axes._subplots.AxesSubplot at 0x226d0e4e4c8>"
      ]
     },
     "execution_count": 11,
     "metadata": {},
     "output_type": "execute_result"
    },
    {
     "data": {
      "image/png": "[encoded data removed]",
      "text/plain": [
       "<Figure size 432x288 with 1 Axes>"
      ]
     },
     "metadata": {
      "needs_background": "light"
     },
     "output_type": "display_data"
    }
   ],
   "source": [
    "data.isnull().sum().plot(kind='bar')"
   ]
  },
  {
   "cell_type": "code",
   "execution_count": 12,
   "metadata": {},
   "outputs": [],
   "source": [
    "data = data.fillna(data.mean())"
   ]
  },
  {
   "cell_type": "code",
   "execution_count": 13,
   "metadata": {},
   "outputs": [],
   "source": [
    "data['personal_loan_active'] = data['personal_loan_active'].astype('int64')"
   ]
  },
  {
   "cell_type": "code",
   "execution_count": 14,
   "metadata": {},
   "outputs": [],
   "source": [
    "data['personal_loan_closed'] = data['personal_loan_closed'].astype('int64')\n",
    "data['vehicle_loan_active'] = data['vehicle_loan_active'].astype('int64')\n",
    "data['vehicle_loan_closed'] = data['vehicle_loan_closed'].astype('int64')"
   ]
  },
  {
   "cell_type": "code",
   "execution_count": 15,
   "metadata": {},
   "outputs": [],
   "source": [
    "data['cc_count_apr'] = data['cc_count_apr'].astype('int64')\n",
    "data['cc_count_may'] = data['cc_count_may'].astype('int64')\n",
    "data['cc_count_jun'] = data['cc_count_jun'].astype('int64')\n",
    "data['dc_count_may'] = data['dc_count_may'].astype('int64')\n",
    "data['dc_count_apr'] = data['dc_count_apr'].astype('int64')\n",
    "data['dc_count_jun'] = data['dc_count_jun'].astype('int64')\n",
    "data['debit_count_apr'] = data['debit_count_apr'].astype('int64')\n",
    "data['debit_count_may'] = data['debit_count_may'].astype('int64')\n",
    "data['debit_count_jun'] = data['debit_count_jun'].astype('int64')\n",
    "data['credit_count_apr'] = data['credit_count_apr'].astype('int64')\n",
    "data['credit_count_may'] = data['credit_count_may'].astype('int64')\n",
    "data['credit_count_jun'] = data['credit_count_jun'].astype('int64')\n"
   ]
  },
  {
   "cell_type": "code",
   "execution_count": 16,
   "metadata": {},
   "outputs": [
    {
     "name": "stdout",
     "output_type": "stream",
     "text": [
      "<class 'pandas.core.frame.DataFrame'>\n",
      "RangeIndex: 15000 entries, 0 to 14999\n",
      "Data columns (total 34 columns):\n",
      "account_type             15000 non-null object\n",
      "gender                   15000 non-null object\n",
      "age                      15000 non-null int64\n",
      "region_code              15000 non-null float64\n",
      "dc_cons_apr              15000 non-null float64\n",
      "dc_cons_may              15000 non-null float64\n",
      "dc_cons_jun              15000 non-null float64\n",
      "cc_count_apr             15000 non-null int64\n",
      "cc_count_may             15000 non-null int64\n",
      "cc_count_jun             15000 non-null int64\n",
      "dc_count_apr             15000 non-null int64\n",
      "dc_count_may             15000 non-null int64\n",
      "dc_count_jun             15000 non-null int64\n",
      "card_lim                 15000 non-null float64\n",
      "personal_loan_active     15000 non-null int64\n",
      "vehicle_loan_active      15000 non-null int64\n",
      "personal_loan_closed     15000 non-null int64\n",
      "vehicle_loan_closed      15000 non-null int64\n",
      "debit_amount_apr         15000 non-null float64\n",
      "credit_amount_apr        15000 non-null float64\n",
      "debit_count_apr          15000 non-null int64\n",
      "credit_count_apr         15000 non-null int64\n",
      "max_credit_amount_apr    15000 non-null float64\n",
      "debit_amount_may         15000 non-null float64\n",
      "credit_amount_may        15000 non-null float64\n",
      "credit_count_may         15000 non-null int64\n",
      "debit_count_may          15000 non-null int64\n",
      "max_credit_amount_may    15000 non-null float64\n",
      "debit_amount_jun         15000 non-null float64\n",
      "credit_amount_jun        15000 non-null float64\n",
      "credit_count_jun         15000 non-null int64\n",
      "debit_count_jun          15000 non-null int64\n",
      "max_credit_amount_jun    15000 non-null float64\n",
      "cc_cons                  15000 non-null float64\n",
      "dtypes: float64(15), int64(17), object(2)\n",
      "memory usage: 3.9+ MB\n"
     ]
    }
   ],
   "source": [
    "data.info()"
   ]
  },
  {
   "cell_type": "markdown",
   "metadata": {},
   "source": [
    "# adding new variable"
   ]
  },
  {
   "cell_type": "code",
   "execution_count": 17,
   "metadata": {
    "scrolled": true
   },
   "outputs": [
    {
     "data": {
      "text/plain": [
       "Index(['account_type', 'gender', 'age', 'region_code', 'dc_cons_apr',\n",
       "       'dc_cons_may', 'dc_cons_jun', 'cc_count_apr', 'cc_count_may',\n",
       "       'cc_count_jun', 'dc_count_apr', 'dc_count_may', 'dc_count_jun',\n",
       "       'card_lim', 'personal_loan_active', 'vehicle_loan_active',\n",
       "       'personal_loan_closed', 'vehicle_loan_closed', 'debit_amount_apr',\n",
       "       'credit_amount_apr', 'debit_count_apr', 'credit_count_apr',\n",
       "       'max_credit_amount_apr', 'debit_amount_may', 'credit_amount_may',\n",
       "       'credit_count_may', 'debit_count_may', 'max_credit_amount_may',\n",
       "       'debit_amount_jun', 'credit_amount_jun', 'credit_count_jun',\n",
       "       'debit_count_jun', 'max_credit_amount_jun', 'cc_cons'],\n",
       "      dtype='object')"
      ]
     },
     "execution_count": 17,
     "metadata": {},
     "output_type": "execute_result"
    }
   ],
   "source": [
    "data.columns"
   ]
  },
  {
   "cell_type": "code",
   "execution_count": 18,
   "metadata": {},
   "outputs": [],
   "source": [
    "# total dc cons for 3 months\n",
    "data['dc_cons_sum'] = data['dc_cons_apr'] + data['dc_cons_may'] + data['dc_cons_jun']"
   ]
  },
  {
   "cell_type": "code",
   "execution_count": 19,
   "metadata": {},
   "outputs": [],
   "source": [
    "# total dc and cc count for 3 months\n",
    "data['cc_count_sum'] = data['cc_count_apr'] + data['cc_count_may'] + data['cc_count_jun']\n",
    "data['dc_count_sum'] = data['dc_count_apr'] + data['dc_count_may'] + data['dc_count_jun']"
   ]
  },
  {
   "cell_type": "code",
   "execution_count": 20,
   "metadata": {},
   "outputs": [],
   "source": [
    "#total dc cons average for 3 month\n",
    "data['dc_cons_avg'] = data['dc_cons_sum']/data['dc_count_sum']"
   ]
  },
  {
   "cell_type": "code",
   "execution_count": 21,
   "metadata": {},
   "outputs": [],
   "source": [
    "#Total dc cons average for each month\n",
    "data['dc_cons_apr_avg'] = data['dc_cons_apr']/data['dc_count_apr']\n",
    "data['dc_cons_may_avg'] = data['dc_cons_may']/data['dc_count_may']\n",
    "data['dc_cons_jun_avg'] = data['dc_cons_jun']/data['dc_count_apr']"
   ]
  },
  {
   "cell_type": "code",
   "execution_count": 22,
   "metadata": {},
   "outputs": [],
   "source": [
    "# Total dc and cc cons for 3 months\n",
    "data['credit_amount_sum']= data['credit_amount_apr'] + data['credit_amount_may'] + data['credit_amount_jun']\n",
    "data['debit_amount_sum']= data['debit_amount_apr'] + data['debit_amount_may'] + data['debit_amount_jun']"
   ]
  },
  {
   "cell_type": "code",
   "execution_count": 23,
   "metadata": {},
   "outputs": [],
   "source": [
    "# Total dc and cc count for 3 months\n",
    "data['credit_count_sum']= data['credit_count_apr'] + data['credit_count_may'] + data['credit_count_jun']\n",
    "data['debit_count_sum']= data['debit_count_apr'] + data['debit_count_may'] + data['debit_count_jun']"
   ]
  },
  {
   "cell_type": "code",
   "execution_count": 24,
   "metadata": {},
   "outputs": [],
   "source": [
    "# Total dc and cc cons average for 3 months\n",
    "data['credit_amount_avg'] = data['credit_amount_sum']/data['credit_count_sum']\n",
    "data['debit_amount_avg'] = data['debit_amount_sum']/data['debit_count_sum']"
   ]
  },
  {
   "cell_type": "code",
   "execution_count": 25,
   "metadata": {},
   "outputs": [],
   "source": [
    "# Total cc cons average for each month\n",
    "data['credit_amount_apr_avg'] = data['credit_amount_apr']/data['credit_count_apr']\n",
    "data['credit_amount_may_avg'] = data['credit_amount_may']/data['credit_count_may']\n",
    "data['credit_amount_jun_avg'] = data['credit_amount_jun']/data['credit_count_jun']"
   ]
  },
  {
   "cell_type": "code",
   "execution_count": 26,
   "metadata": {},
   "outputs": [],
   "source": [
    "# Total dc cons average for each month\n",
    "data['debit_amount_apr_avg'] = data['debit_amount_apr']/data['debit_count_apr']\n",
    "data['debit_amount_may_avg'] = data['debit_amount_may']/data['debit_count_may']\n",
    "data['debit_amount_jun_avg'] = data['debit_amount_jun']/data['debit_count_jun']"
   ]
  },
  {
   "cell_type": "code",
   "execution_count": 27,
   "metadata": {},
   "outputs": [],
   "source": [
    "# perc credit amount for each month\n",
    "data['perc_credit_amount_apr'] = data['credit_amount_apr']/data['max_credit_amount_apr']\n",
    "data['perc_credit_amount_may'] = data['credit_amount_may']/data['max_credit_amount_may']\n",
    "data['perc_credit_amount_jun'] = data['credit_amount_jun']/data['max_credit_amount_jun']"
   ]
  },
  {
   "cell_type": "code",
   "execution_count": 28,
   "metadata": {},
   "outputs": [],
   "source": [
    "#dc_cons_month_prop\n",
    "data['dc_cons_apr_prop'] = data['dc_cons_apr']/data['dc_cons_sum']\n",
    "data['dc_cons_may_prop'] = data['dc_cons_may']/data['dc_cons_sum']\n",
    "data['dc_cons_jun_prop'] = data['dc_cons_jun']/data['dc_cons_sum']"
   ]
  },
  {
   "cell_type": "code",
   "execution_count": 29,
   "metadata": {},
   "outputs": [],
   "source": [
    "# credit_amount_month_prop\n",
    "data['credit_amount_apr_prop'] = data['credit_amount_apr']/data['credit_amount_sum'] \n",
    "data['credit_amount_may_prop'] = data['credit_amount_may']/data['credit_amount_sum']\n",
    "data['credit_amount_jun_prop'] = data['credit_amount_jun']/data['credit_amount_sum']"
   ]
  },
  {
   "cell_type": "code",
   "execution_count": 30,
   "metadata": {},
   "outputs": [],
   "source": [
    "# debit_amount_month_prop\n",
    "data['debit_amount_apr_prop'] = data['debit_amount_apr']/data['debit_amount_sum']\n",
    "data['debit_amount_may_prop'] = data['debit_amount_may']/data['debit_amount_sum']\n",
    "data['debit_amount_jun_prop'] = data['debit_amount_jun']/data['debit_amount_sum']"
   ]
  },
  {
   "cell_type": "code",
   "execution_count": 31,
   "metadata": {},
   "outputs": [],
   "source": [
    "#dc by cc_amount_ratio_months\n",
    "data['debit_by_credit_amount_ratio_apr'] = data['debit_amount_apr']/data['credit_amount_apr']\n",
    "data['debit_by_credit_amount_ratio_may'] = data['debit_amount_may']/data['credit_amount_may']\n",
    "data['debit_by_credit_amount_ratio_jun'] = data['debit_amount_jun']/data['credit_amount_jun']"
   ]
  },
  {
   "cell_type": "code",
   "execution_count": 32,
   "metadata": {},
   "outputs": [],
   "source": [
    "data['account_type'] = data['account_type'].map({'saving' : 0, 'current' : 1})\n",
    "data['gender'] = data['gender'].map({'M' : 0, 'F' : 1})"
   ]
  },
  {
   "cell_type": "code",
   "execution_count": 33,
   "metadata": {},
   "outputs": [
    {
     "data": {
      "text/plain": [
       "Index(['account_type', 'gender', 'age', 'region_code', 'dc_cons_apr',\n",
       "       'dc_cons_may', 'dc_cons_jun', 'cc_count_apr', 'cc_count_may',\n",
       "       'cc_count_jun', 'dc_count_apr', 'dc_count_may', 'dc_count_jun',\n",
       "       'card_lim', 'personal_loan_active', 'vehicle_loan_active',\n",
       "       'personal_loan_closed', 'vehicle_loan_closed', 'debit_amount_apr',\n",
       "       'credit_amount_apr', 'debit_count_apr', 'credit_count_apr',\n",
       "       'max_credit_amount_apr', 'debit_amount_may', 'credit_amount_may',\n",
       "       'credit_count_may', 'debit_count_may', 'max_credit_amount_may',\n",
       "       'debit_amount_jun', 'credit_amount_jun', 'credit_count_jun',\n",
       "       'debit_count_jun', 'max_credit_amount_jun', 'cc_cons', 'dc_cons_sum',\n",
       "       'cc_count_sum', 'dc_count_sum', 'dc_cons_avg', 'dc_cons_apr_avg',\n",
       "       'dc_cons_may_avg', 'dc_cons_jun_avg', 'credit_amount_sum',\n",
       "       'debit_amount_sum', 'credit_count_sum', 'debit_count_sum',\n",
       "       'credit_amount_avg', 'debit_amount_avg', 'credit_amount_apr_avg',\n",
       "       'credit_amount_may_avg', 'credit_amount_jun_avg',\n",
       "       'debit_amount_apr_avg', 'debit_amount_may_avg', 'debit_amount_jun_avg',\n",
       "       'perc_credit_amount_apr', 'perc_credit_amount_may',\n",
       "       'perc_credit_amount_jun', 'dc_cons_apr_prop', 'dc_cons_may_prop',\n",
       "       'dc_cons_jun_prop', 'credit_amount_apr_prop', 'credit_amount_may_prop',\n",
       "       'credit_amount_jun_prop', 'debit_amount_apr_prop',\n",
       "       'debit_amount_may_prop', 'debit_amount_jun_prop',\n",
       "       'debit_by_credit_amount_ratio_apr', 'debit_by_credit_amount_ratio_may',\n",
       "       'debit_by_credit_amount_ratio_jun'],\n",
       "      dtype='object')"
      ]
     },
     "execution_count": 33,
     "metadata": {},
     "output_type": "execute_result"
    }
   ],
   "source": [
    "data.columns"
   ]
  },
  {
   "cell_type": "code",
   "execution_count": null,
   "metadata": {},
   "outputs": [],
   "source": []
  },
  {
   "cell_type": "code",
   "execution_count": 34,
   "metadata": {},
   "outputs": [
    {
     "data": {
      "text/plain": [
       "<matplotlib.axes._subplots.AxesSubplot at 0x226d25f8548>"
      ]
     },
     "execution_count": 34,
     "metadata": {},
     "output_type": "execute_result"
    },
    {
     "data": {
      "image/png": "[encoded data removed]",
      "text/plain": [
       "<Figure size 432x288 with 1 Axes>"
      ]
     },
     "metadata": {
      "needs_background": "light"
     },
     "output_type": "display_data"
    }
   ],
   "source": [
    "data.plot.scatter(x='credit_amount_sum', y='debit_amount_sum')"
   ]
  },
  {
   "cell_type": "code",
   "execution_count": null,
   "metadata": {},
   "outputs": [],
   "source": []
  },
  {
   "cell_type": "code",
   "execution_count": 35,
   "metadata": {},
   "outputs": [
    {
     "data": {
      "text/html": [
       "<div>\n",
       "<style scoped>\n",
       "    .dataframe tbody tr th:only-of-type {\n",
       "        vertical-align: middle;\n",
       "    }\n",
       "\n",
       "    .dataframe tbody tr th {\n",
       "        vertical-align: top;\n",
       "    }\n",
       "\n",
       "    .dataframe thead th {\n",
       "        text-align: right;\n",
       "    }\n",
       "</style>\n",
       "<table border=\"1\" class=\"dataframe\">\n",
       "  <thead>\n",
       "    <tr style=\"text-align: right;\">\n",
       "      <th></th>\n",
       "      <th>account_type</th>\n",
       "      <th>gender</th>\n",
       "      <th>age</th>\n",
       "      <th>region_code</th>\n",
       "      <th>dc_cons_apr</th>\n",
       "      <th>dc_cons_may</th>\n",
       "      <th>dc_cons_jun</th>\n",
       "      <th>cc_count_apr</th>\n",
       "      <th>cc_count_may</th>\n",
       "      <th>cc_count_jun</th>\n",
       "      <th>...</th>\n",
       "      <th>dc_cons_jun_prop</th>\n",
       "      <th>credit_amount_apr_prop</th>\n",
       "      <th>credit_amount_may_prop</th>\n",
       "      <th>credit_amount_jun_prop</th>\n",
       "      <th>debit_amount_apr_prop</th>\n",
       "      <th>debit_amount_may_prop</th>\n",
       "      <th>debit_amount_jun_prop</th>\n",
       "      <th>debit_by_credit_amount_ratio_apr</th>\n",
       "      <th>debit_by_credit_amount_ratio_may</th>\n",
       "      <th>debit_by_credit_amount_ratio_jun</th>\n",
       "    </tr>\n",
       "  </thead>\n",
       "  <tbody>\n",
       "    <tr>\n",
       "      <td>count</td>\n",
       "      <td>15000.000000</td>\n",
       "      <td>15000.000000</td>\n",
       "      <td>15000.000000</td>\n",
       "      <td>15000.000000</td>\n",
       "      <td>15000.000000</td>\n",
       "      <td>15000.000000</td>\n",
       "      <td>15000.000000</td>\n",
       "      <td>15000.000000</td>\n",
       "      <td>15000.000000</td>\n",
       "      <td>15000.000000</td>\n",
       "      <td>...</td>\n",
       "      <td>9413.000000</td>\n",
       "      <td>15000.000000</td>\n",
       "      <td>15000.000000</td>\n",
       "      <td>15000.000000</td>\n",
       "      <td>15000.000000</td>\n",
       "      <td>15000.000000</td>\n",
       "      <td>15000.000000</td>\n",
       "      <td>15000.000000</td>\n",
       "      <td>15000.000000</td>\n",
       "      <td>15000.000000</td>\n",
       "    </tr>\n",
       "    <tr>\n",
       "      <td>mean</td>\n",
       "      <td>0.786467</td>\n",
       "      <td>0.147067</td>\n",
       "      <td>35.821400</td>\n",
       "      <td>556.877333</td>\n",
       "      <td>4651.061948</td>\n",
       "      <td>11219.771785</td>\n",
       "      <td>3242.686802</td>\n",
       "      <td>9.059000</td>\n",
       "      <td>9.475600</td>\n",
       "      <td>19.177267</td>\n",
       "      <td>...</td>\n",
       "      <td>0.188472</td>\n",
       "      <td>0.197377</td>\n",
       "      <td>0.311359</td>\n",
       "      <td>0.491264</td>\n",
       "      <td>0.206349</td>\n",
       "      <td>0.302675</td>\n",
       "      <td>0.490976</td>\n",
       "      <td>5.806823</td>\n",
       "      <td>4.987320</td>\n",
       "      <td>7.168002</td>\n",
       "    </tr>\n",
       "    <tr>\n",
       "      <td>std</td>\n",
       "      <td>0.409815</td>\n",
       "      <td>0.354184</td>\n",
       "      <td>8.375531</td>\n",
       "      <td>192.645289</td>\n",
       "      <td>9012.245093</td>\n",
       "      <td>16379.201342</td>\n",
       "      <td>7358.137748</td>\n",
       "      <td>8.140528</td>\n",
       "      <td>8.901791</td>\n",
       "      <td>12.001471</td>\n",
       "      <td>...</td>\n",
       "      <td>0.270640</td>\n",
       "      <td>0.135622</td>\n",
       "      <td>0.173891</td>\n",
       "      <td>0.204044</td>\n",
       "      <td>0.150589</td>\n",
       "      <td>0.173983</td>\n",
       "      <td>0.206204</td>\n",
       "      <td>136.034357</td>\n",
       "      <td>77.968621</td>\n",
       "      <td>216.282614</td>\n",
       "    </tr>\n",
       "    <tr>\n",
       "      <td>min</td>\n",
       "      <td>0.000000</td>\n",
       "      <td>0.000000</td>\n",
       "      <td>22.000000</td>\n",
       "      <td>129.000000</td>\n",
       "      <td>0.000000</td>\n",
       "      <td>0.000000</td>\n",
       "      <td>0.000000</td>\n",
       "      <td>1.000000</td>\n",
       "      <td>1.000000</td>\n",
       "      <td>1.000000</td>\n",
       "      <td>...</td>\n",
       "      <td>0.000000</td>\n",
       "      <td>0.000089</td>\n",
       "      <td>0.000096</td>\n",
       "      <td>0.000045</td>\n",
       "      <td>0.000030</td>\n",
       "      <td>0.000018</td>\n",
       "      <td>0.000145</td>\n",
       "      <td>0.000180</td>\n",
       "      <td>0.000189</td>\n",
       "      <td>0.000081</td>\n",
       "    </tr>\n",
       "    <tr>\n",
       "      <td>25%</td>\n",
       "      <td>1.000000</td>\n",
       "      <td>0.000000</td>\n",
       "      <td>30.000000</td>\n",
       "      <td>450.750000</td>\n",
       "      <td>0.000000</td>\n",
       "      <td>0.000000</td>\n",
       "      <td>0.000000</td>\n",
       "      <td>3.000000</td>\n",
       "      <td>3.000000</td>\n",
       "      <td>10.000000</td>\n",
       "      <td>...</td>\n",
       "      <td>0.000000</td>\n",
       "      <td>0.103569</td>\n",
       "      <td>0.190336</td>\n",
       "      <td>0.361858</td>\n",
       "      <td>0.102532</td>\n",
       "      <td>0.176504</td>\n",
       "      <td>0.360599</td>\n",
       "      <td>0.544474</td>\n",
       "      <td>0.538281</td>\n",
       "      <td>0.542524</td>\n",
       "    </tr>\n",
       "    <tr>\n",
       "      <td>50%</td>\n",
       "      <td>1.000000</td>\n",
       "      <td>0.000000</td>\n",
       "      <td>34.000000</td>\n",
       "      <td>566.000000</td>\n",
       "      <td>0.000000</td>\n",
       "      <td>0.000000</td>\n",
       "      <td>0.000000</td>\n",
       "      <td>7.000000</td>\n",
       "      <td>7.000000</td>\n",
       "      <td>19.000000</td>\n",
       "      <td>...</td>\n",
       "      <td>0.066116</td>\n",
       "      <td>0.182124</td>\n",
       "      <td>0.296295</td>\n",
       "      <td>0.513500</td>\n",
       "      <td>0.187046</td>\n",
       "      <td>0.285947</td>\n",
       "      <td>0.512417</td>\n",
       "      <td>1.074823</td>\n",
       "      <td>1.010709</td>\n",
       "      <td>1.016747</td>\n",
       "    </tr>\n",
       "    <tr>\n",
       "      <td>75%</td>\n",
       "      <td>1.000000</td>\n",
       "      <td>0.000000</td>\n",
       "      <td>39.000000</td>\n",
       "      <td>710.000000</td>\n",
       "      <td>7961.438852</td>\n",
       "      <td>21839.681968</td>\n",
       "      <td>4595.398707</td>\n",
       "      <td>12.000000</td>\n",
       "      <td>12.000000</td>\n",
       "      <td>26.000000</td>\n",
       "      <td>...</td>\n",
       "      <td>0.274173</td>\n",
       "      <td>0.255517</td>\n",
       "      <td>0.410960</td>\n",
       "      <td>0.632680</td>\n",
       "      <td>0.266216</td>\n",
       "      <td>0.401547</td>\n",
       "      <td>0.635299</td>\n",
       "      <td>1.921975</td>\n",
       "      <td>1.815741</td>\n",
       "      <td>1.971796</td>\n",
       "    </tr>\n",
       "    <tr>\n",
       "      <td>max</td>\n",
       "      <td>1.000000</td>\n",
       "      <td>1.000000</td>\n",
       "      <td>223.000000</td>\n",
       "      <td>977.000000</td>\n",
       "      <td>361712.821531</td>\n",
       "      <td>343536.313152</td>\n",
       "      <td>292828.344121</td>\n",
       "      <td>100.000000</td>\n",
       "      <td>130.000000</td>\n",
       "      <td>137.000000</td>\n",
       "      <td>...</td>\n",
       "      <td>1.000000</td>\n",
       "      <td>0.958185</td>\n",
       "      <td>0.968838</td>\n",
       "      <td>0.988057</td>\n",
       "      <td>0.991287</td>\n",
       "      <td>0.998519</td>\n",
       "      <td>0.991517</td>\n",
       "      <td>15335.628965</td>\n",
       "      <td>6830.906149</td>\n",
       "      <td>21477.839041</td>\n",
       "    </tr>\n",
       "  </tbody>\n",
       "</table>\n",
       "<p>8 rows × 68 columns</p>\n",
       "</div>"
      ],
      "text/plain": [
       "       account_type        gender           age   region_code    dc_cons_apr  \\\n",
       "count  15000.000000  15000.000000  15000.000000  15000.000000   15000.000000   \n",
       "mean       0.786467      0.147067     35.821400    556.877333    4651.061948   \n",
       "std        0.409815      0.354184      8.375531    192.645289    9012.245093   \n",
       "min        0.000000      0.000000     22.000000    129.000000       0.000000   \n",
       "25%        1.000000      0.000000     30.000000    450.750000       0.000000   \n",
       "50%        1.000000      0.000000     34.000000    566.000000       0.000000   \n",
       "75%        1.000000      0.000000     39.000000    710.000000    7961.438852   \n",
       "max        1.000000      1.000000    223.000000    977.000000  361712.821531   \n",
       "\n",
       "         dc_cons_may    dc_cons_jun  cc_count_apr  cc_count_may  cc_count_jun  \\\n",
       "count   15000.000000   15000.000000  15000.000000  15000.000000  15000.000000   \n",
       "mean    11219.771785    3242.686802      9.059000      9.475600     19.177267   \n",
       "std     16379.201342    7358.137748      8.140528      8.901791     12.001471   \n",
       "min         0.000000       0.000000      1.000000      1.000000      1.000000   \n",
       "25%         0.000000       0.000000      3.000000      3.000000     10.000000   \n",
       "50%         0.000000       0.000000      7.000000      7.000000     19.000000   \n",
       "75%     21839.681968    4595.398707     12.000000     12.000000     26.000000   \n",
       "max    343536.313152  292828.344121    100.000000    130.000000    137.000000   \n",
       "\n",
       "       ...  dc_cons_jun_prop  credit_amount_apr_prop  credit_amount_may_prop  \\\n",
       "count  ...       9413.000000            15000.000000            15000.000000   \n",
       "mean   ...          0.188472                0.197377                0.311359   \n",
       "std    ...          0.270640                0.135622                0.173891   \n",
       "min    ...          0.000000                0.000089                0.000096   \n",
       "25%    ...          0.000000                0.103569                0.190336   \n",
       "50%    ...          0.066116                0.182124                0.296295   \n",
       "75%    ...          0.274173                0.255517                0.410960   \n",
       "max    ...          1.000000                0.958185                0.968838   \n",
       "\n",
       "       credit_amount_jun_prop  debit_amount_apr_prop  debit_amount_may_prop  \\\n",
       "count            15000.000000           15000.000000           15000.000000   \n",
       "mean                 0.491264               0.206349               0.302675   \n",
       "std                  0.204044               0.150589               0.173983   \n",
       "min                  0.000045               0.000030               0.000018   \n",
       "25%                  0.361858               0.102532               0.176504   \n",
       "50%                  0.513500               0.187046               0.285947   \n",
       "75%                  0.632680               0.266216               0.401547   \n",
       "max                  0.988057               0.991287               0.998519   \n",
       "\n",
       "       debit_amount_jun_prop  debit_by_credit_amount_ratio_apr  \\\n",
       "count           15000.000000                      15000.000000   \n",
       "mean                0.490976                          5.806823   \n",
       "std                 0.206204                        136.034357   \n",
       "min                 0.000145                          0.000180   \n",
       "25%                 0.360599                          0.544474   \n",
       "50%                 0.512417                          1.074823   \n",
       "75%                 0.635299                          1.921975   \n",
       "max                 0.991517                      15335.628965   \n",
       "\n",
       "       debit_by_credit_amount_ratio_may  debit_by_credit_amount_ratio_jun  \n",
       "count                      15000.000000                      15000.000000  \n",
       "mean                           4.987320                          7.168002  \n",
       "std                           77.968621                        216.282614  \n",
       "min                            0.000189                          0.000081  \n",
       "25%                            0.538281                          0.542524  \n",
       "50%                            1.010709                          1.016747  \n",
       "75%                            1.815741                          1.971796  \n",
       "max                         6830.906149                      21477.839041  \n",
       "\n",
       "[8 rows x 68 columns]"
      ]
     },
     "execution_count": 35,
     "metadata": {},
     "output_type": "execute_result"
    }
   ],
   "source": [
    "data.describe()"
   ]
  },
  {
   "cell_type": "code",
   "execution_count": 36,
   "metadata": {},
   "outputs": [
    {
     "name": "stdout",
     "output_type": "stream",
     "text": [
      "account_type                           0.000000\n",
      "gender                                 0.000000\n",
      "age                                    9.000000\n",
      "region_code                          259.250000\n",
      "dc_cons_apr                         7961.438852\n",
      "                                       ...     \n",
      "debit_amount_may_prop                  0.225043\n",
      "debit_amount_jun_prop                  0.274700\n",
      "debit_by_credit_amount_ratio_apr       1.377501\n",
      "debit_by_credit_amount_ratio_may       1.277460\n",
      "debit_by_credit_amount_ratio_jun       1.429272\n",
      "Length: 68, dtype: float64\n"
     ]
    }
   ],
   "source": [
    "Q1 = data.quantile(0.25)\n",
    "Q3 = data.quantile(0.75)\n",
    "IQR = Q3 - Q1\n",
    "print(IQR)"
   ]
  },
  {
   "cell_type": "code",
   "execution_count": 37,
   "metadata": {},
   "outputs": [],
   "source": [
    "data[data==np.inf]=np.nan\n",
    "data.fillna(data.mean(), inplace=True)"
   ]
  },
  {
   "cell_type": "code",
   "execution_count": 38,
   "metadata": {},
   "outputs": [
    {
     "name": "stdout",
     "output_type": "stream",
     "text": [
      "<class 'pandas.core.frame.DataFrame'>\n",
      "RangeIndex: 15000 entries, 0 to 14999\n",
      "Data columns (total 68 columns):\n",
      "account_type                        15000 non-null int64\n",
      "gender                              15000 non-null int64\n",
      "age                                 15000 non-null int64\n",
      "region_code                         15000 non-null float64\n",
      "dc_cons_apr                         15000 non-null float64\n",
      "dc_cons_may                         15000 non-null float64\n",
      "dc_cons_jun                         15000 non-null float64\n",
      "cc_count_apr                        15000 non-null int64\n",
      "cc_count_may                        15000 non-null int64\n",
      "cc_count_jun                        15000 non-null int64\n",
      "dc_count_apr                        15000 non-null int64\n",
      "dc_count_may                        15000 non-null int64\n",
      "dc_count_jun                        15000 non-null int64\n",
      "card_lim                            15000 non-null float64\n",
      "personal_loan_active                15000 non-null int64\n",
      "vehicle_loan_active                 15000 non-null int64\n",
      "personal_loan_closed                15000 non-null int64\n",
      "vehicle_loan_closed                 15000 non-null int64\n",
      "debit_amount_apr                    15000 non-null float64\n",
      "credit_amount_apr                   15000 non-null float64\n",
      "debit_count_apr                     15000 non-null int64\n",
      "credit_count_apr                    15000 non-null int64\n",
      "max_credit_amount_apr               15000 non-null float64\n",
      "debit_amount_may                    15000 non-null float64\n",
      "credit_amount_may                   15000 non-null float64\n",
      "credit_count_may                    15000 non-null int64\n",
      "debit_count_may                     15000 non-null int64\n",
      "max_credit_amount_may               15000 non-null float64\n",
      "debit_amount_jun                    15000 non-null float64\n",
      "credit_amount_jun                   15000 non-null float64\n",
      "credit_count_jun                    15000 non-null int64\n",
      "debit_count_jun                     15000 non-null int64\n",
      "max_credit_amount_jun               15000 non-null float64\n",
      "cc_cons                             15000 non-null float64\n",
      "dc_cons_sum                         15000 non-null float64\n",
      "cc_count_sum                        15000 non-null int64\n",
      "dc_count_sum                        15000 non-null int64\n",
      "dc_cons_avg                         15000 non-null float64\n",
      "dc_cons_apr_avg                     15000 non-null float64\n",
      "dc_cons_may_avg                     15000 non-null float64\n",
      "dc_cons_jun_avg                     15000 non-null float64\n",
      "credit_amount_sum                   15000 non-null float64\n",
      "debit_amount_sum                    15000 non-null float64\n",
      "credit_count_sum                    15000 non-null int64\n",
      "debit_count_sum                     15000 non-null int64\n",
      "credit_amount_avg                   15000 non-null float64\n",
      "debit_amount_avg                    15000 non-null float64\n",
      "credit_amount_apr_avg               15000 non-null float64\n",
      "credit_amount_may_avg               15000 non-null float64\n",
      "credit_amount_jun_avg               15000 non-null float64\n",
      "debit_amount_apr_avg                15000 non-null float64\n",
      "debit_amount_may_avg                15000 non-null float64\n",
      "debit_amount_jun_avg                15000 non-null float64\n",
      "perc_credit_amount_apr              15000 non-null float64\n",
      "perc_credit_amount_may              15000 non-null float64\n",
      "perc_credit_amount_jun              15000 non-null float64\n",
      "dc_cons_apr_prop                    15000 non-null float64\n",
      "dc_cons_may_prop                    15000 non-null float64\n",
      "dc_cons_jun_prop                    15000 non-null float64\n",
      "credit_amount_apr_prop              15000 non-null float64\n",
      "credit_amount_may_prop              15000 non-null float64\n",
      "credit_amount_jun_prop              15000 non-null float64\n",
      "debit_amount_apr_prop               15000 non-null float64\n",
      "debit_amount_may_prop               15000 non-null float64\n",
      "debit_amount_jun_prop               15000 non-null float64\n",
      "debit_by_credit_amount_ratio_apr    15000 non-null float64\n",
      "debit_by_credit_amount_ratio_may    15000 non-null float64\n",
      "debit_by_credit_amount_ratio_jun    15000 non-null float64\n",
      "dtypes: float64(45), int64(23)\n",
      "memory usage: 7.8 MB\n"
     ]
    }
   ],
   "source": [
    "data.info()"
   ]
  },
  {
   "cell_type": "code",
   "execution_count": 39,
   "metadata": {},
   "outputs": [
    {
     "name": "stdout",
     "output_type": "stream",
     "text": [
      "       account_type  gender    age  region_code  dc_cons_apr  dc_cons_may  \\\n",
      "0              True   False  False        False        False        False   \n",
      "1             False   False  False        False        False        False   \n",
      "2             False   False  False        False        False        False   \n",
      "3             False   False  False        False        False        False   \n",
      "4             False   False  False        False        False        False   \n",
      "...             ...     ...    ...          ...          ...          ...   \n",
      "14995          True   False  False        False        False        False   \n",
      "14996          True   False  False        False        False        False   \n",
      "14997         False   False  False        False        False        False   \n",
      "14998         False   False  False        False        False        False   \n",
      "14999         False   False  False        False        False        False   \n",
      "\n",
      "       dc_cons_jun  cc_count_apr  cc_count_may  cc_count_jun  ...  \\\n",
      "0            False         False         False         False  ...   \n",
      "1            False         False         False         False  ...   \n",
      "2            False         False         False         False  ...   \n",
      "3            False         False         False         False  ...   \n",
      "4            False         False         False         False  ...   \n",
      "...            ...           ...           ...           ...  ...   \n",
      "14995        False         False         False         False  ...   \n",
      "14996        False         False         False         False  ...   \n",
      "14997        False         False         False         False  ...   \n",
      "14998        False         False         False         False  ...   \n",
      "14999        False         False         False         False  ...   \n",
      "\n",
      "       dc_cons_jun_prop  credit_amount_apr_prop  credit_amount_may_prop  \\\n",
      "0                 False                   False                   False   \n",
      "1                 False                   False                   False   \n",
      "2                 False                   False                   False   \n",
      "3                 False                   False                   False   \n",
      "4                 False                   False                   False   \n",
      "...                 ...                     ...                     ...   \n",
      "14995             False                   False                   False   \n",
      "14996             False                   False                   False   \n",
      "14997             False                   False                   False   \n",
      "14998             False                   False                   False   \n",
      "14999             False                   False                   False   \n",
      "\n",
      "       credit_amount_jun_prop  debit_amount_apr_prop  debit_amount_may_prop  \\\n",
      "0                       False                  False                  False   \n",
      "1                       False                  False                  False   \n",
      "2                       False                  False                  False   \n",
      "3                       False                  False                  False   \n",
      "4                       False                  False                  False   \n",
      "...                       ...                    ...                    ...   \n",
      "14995                   False                  False                  False   \n",
      "14996                   False                  False                  False   \n",
      "14997                   False                  False                  False   \n",
      "14998                   False                  False                  False   \n",
      "14999                   False                  False                  False   \n",
      "\n",
      "       debit_amount_jun_prop  debit_by_credit_amount_ratio_apr  \\\n",
      "0                      False                             False   \n",
      "1                      False                             False   \n",
      "2                      False                             False   \n",
      "3                      False                             False   \n",
      "4                      False                             False   \n",
      "...                      ...                               ...   \n",
      "14995                  False                             False   \n",
      "14996                  False                             False   \n",
      "14997                  False                             False   \n",
      "14998                  False                             False   \n",
      "14999                  False                             False   \n",
      "\n",
      "       debit_by_credit_amount_ratio_may  debit_by_credit_amount_ratio_jun  \n",
      "0                                 False                             False  \n",
      "1                                 False                             False  \n",
      "2                                 False                             False  \n",
      "3                                 False                             False  \n",
      "4                                 False                             False  \n",
      "...                                 ...                               ...  \n",
      "14995                             False                             False  \n",
      "14996                             False                             False  \n",
      "14997                             False                             False  \n",
      "14998                             False                             False  \n",
      "14999                             False                             False  \n",
      "\n",
      "[15000 rows x 68 columns]\n"
     ]
    },
    {
     "ename": "TypeError",
     "evalue": "cannot compare a dtyped [bool] array with a scalar of type [NoneType]",
     "output_type": "error",
     "traceback": [
      "\u001b[1;31m---------------------------------------------------------------------------\u001b[0m",
      "\u001b[1;31mTypeError\u001b[0m                                 Traceback (most recent call last)",
      "\u001b[1;32m~\\Anaconda3\\lib\\site-packages\\pandas\\core\\ops\\__init__.py\u001b[0m in \u001b[0;36mna_op\u001b[1;34m(x, y)\u001b[0m\n\u001b[0;32m   1253\u001b[0m         \u001b[1;32mtry\u001b[0m\u001b[1;33m:\u001b[0m\u001b[1;33m\u001b[0m\u001b[1;33m\u001b[0m\u001b[0m\n\u001b[1;32m-> 1254\u001b[1;33m             \u001b[0mresult\u001b[0m \u001b[1;33m=\u001b[0m \u001b[0mop\u001b[0m\u001b[1;33m(\u001b[0m\u001b[0mx\u001b[0m\u001b[1;33m,\u001b[0m \u001b[0my\u001b[0m\u001b[1;33m)\u001b[0m\u001b[1;33m\u001b[0m\u001b[1;33m\u001b[0m\u001b[0m\n\u001b[0m\u001b[0;32m   1255\u001b[0m         \u001b[1;32mexcept\u001b[0m \u001b[0mTypeError\u001b[0m\u001b[1;33m:\u001b[0m\u001b[1;33m\u001b[0m\u001b[1;33m\u001b[0m\u001b[0m\n",
      "\u001b[1;32m~\\Anaconda3\\lib\\site-packages\\pandas\\core\\ops\\roperator.py\u001b[0m in \u001b[0;36mror_\u001b[1;34m(left, right)\u001b[0m\n\u001b[0;32m     56\u001b[0m \u001b[1;32mdef\u001b[0m \u001b[0mror_\u001b[0m\u001b[1;33m(\u001b[0m\u001b[0mleft\u001b[0m\u001b[1;33m,\u001b[0m \u001b[0mright\u001b[0m\u001b[1;33m)\u001b[0m\u001b[1;33m:\u001b[0m\u001b[1;33m\u001b[0m\u001b[1;33m\u001b[0m\u001b[0m\n\u001b[1;32m---> 57\u001b[1;33m     \u001b[1;32mreturn\u001b[0m \u001b[0moperator\u001b[0m\u001b[1;33m.\u001b[0m\u001b[0mor_\u001b[0m\u001b[1;33m(\u001b[0m\u001b[0mright\u001b[0m\u001b[1;33m,\u001b[0m \u001b[0mleft\u001b[0m\u001b[1;33m)\u001b[0m\u001b[1;33m\u001b[0m\u001b[1;33m\u001b[0m\u001b[0m\n\u001b[0m\u001b[0;32m     58\u001b[0m \u001b[1;33m\u001b[0m\u001b[0m\n",
      "\u001b[1;31mTypeError\u001b[0m: unsupported operand type(s) for |: 'NoneType' and 'bool'",
      "\nDuring handling of the above exception, another exception occurred:\n",
      "\u001b[1;31mValueError\u001b[0m                                Traceback (most recent call last)",
      "\u001b[1;32m~\\Anaconda3\\lib\\site-packages\\pandas\\core\\ops\\__init__.py\u001b[0m in \u001b[0;36mna_op\u001b[1;34m(x, y)\u001b[0m\n\u001b[0;32m   1268\u001b[0m                 \u001b[1;32mtry\u001b[0m\u001b[1;33m:\u001b[0m\u001b[1;33m\u001b[0m\u001b[1;33m\u001b[0m\u001b[0m\n\u001b[1;32m-> 1269\u001b[1;33m                     \u001b[0mresult\u001b[0m \u001b[1;33m=\u001b[0m \u001b[0mlibops\u001b[0m\u001b[1;33m.\u001b[0m\u001b[0mscalar_binop\u001b[0m\u001b[1;33m(\u001b[0m\u001b[0mx\u001b[0m\u001b[1;33m,\u001b[0m \u001b[0my\u001b[0m\u001b[1;33m,\u001b[0m \u001b[0mop\u001b[0m\u001b[1;33m)\u001b[0m\u001b[1;33m\u001b[0m\u001b[1;33m\u001b[0m\u001b[0m\n\u001b[0m\u001b[0;32m   1270\u001b[0m                 except (\n",
      "\u001b[1;32mpandas\\_libs\\ops.pyx\u001b[0m in \u001b[0;36mpandas._libs.ops.scalar_binop\u001b[1;34m()\u001b[0m\n",
      "\u001b[1;31mValueError\u001b[0m: Does not understand character buffer dtype format string ('?')",
      "\nDuring handling of the above exception, another exception occurred:\n",
      "\u001b[1;31mTypeError\u001b[0m                                 Traceback (most recent call last)",
      "\u001b[1;32m<ipython-input-39-36f4fb5765a1>\u001b[0m in \u001b[0;36m<module>\u001b[1;34m\u001b[0m\n\u001b[1;32m----> 1\u001b[1;33m \u001b[0mprint\u001b[0m\u001b[1;33m(\u001b[0m\u001b[0mdata\u001b[0m \u001b[1;33m<\u001b[0m \u001b[1;33m(\u001b[0m\u001b[0mQ1\u001b[0m \u001b[1;33m-\u001b[0m \u001b[1;36m1.5\u001b[0m \u001b[1;33m*\u001b[0m \u001b[0mIQR\u001b[0m\u001b[1;33m)\u001b[0m\u001b[1;33m)\u001b[0m \u001b[1;33m|\u001b[0m\u001b[1;33m(\u001b[0m\u001b[0mdata\u001b[0m \u001b[1;33m>\u001b[0m \u001b[1;33m(\u001b[0m\u001b[0mQ3\u001b[0m \u001b[1;33m+\u001b[0m \u001b[1;36m1.5\u001b[0m \u001b[1;33m*\u001b[0m \u001b[0mIQR\u001b[0m\u001b[1;33m)\u001b[0m\u001b[1;33m)\u001b[0m\u001b[1;33m\u001b[0m\u001b[1;33m\u001b[0m\u001b[0m\n\u001b[0m",
      "\u001b[1;32m~\\Anaconda3\\lib\\site-packages\\pandas\\core\\ops\\__init__.py\u001b[0m in \u001b[0;36mf\u001b[1;34m(self, other, axis, level, fill_value)\u001b[0m\n\u001b[0;32m   1504\u001b[0m \u001b[1;33m\u001b[0m\u001b[0m\n\u001b[0;32m   1505\u001b[0m             \u001b[1;32massert\u001b[0m \u001b[0mnp\u001b[0m\u001b[1;33m.\u001b[0m\u001b[0mndim\u001b[0m\u001b[1;33m(\u001b[0m\u001b[0mother\u001b[0m\u001b[1;33m)\u001b[0m \u001b[1;33m==\u001b[0m \u001b[1;36m0\u001b[0m\u001b[1;33m\u001b[0m\u001b[1;33m\u001b[0m\u001b[0m\n\u001b[1;32m-> 1506\u001b[1;33m             \u001b[1;32mreturn\u001b[0m \u001b[0mself\u001b[0m\u001b[1;33m.\u001b[0m\u001b[0m_combine_const\u001b[0m\u001b[1;33m(\u001b[0m\u001b[0mother\u001b[0m\u001b[1;33m,\u001b[0m \u001b[0mop\u001b[0m\u001b[1;33m)\u001b[0m\u001b[1;33m\u001b[0m\u001b[1;33m\u001b[0m\u001b[0m\n\u001b[0m\u001b[0;32m   1507\u001b[0m \u001b[1;33m\u001b[0m\u001b[0m\n\u001b[0;32m   1508\u001b[0m     \u001b[0mf\u001b[0m\u001b[1;33m.\u001b[0m\u001b[0m__name__\u001b[0m \u001b[1;33m=\u001b[0m \u001b[0mop_name\u001b[0m\u001b[1;33m\u001b[0m\u001b[1;33m\u001b[0m\u001b[0m\n",
      "\u001b[1;32m~\\Anaconda3\\lib\\site-packages\\pandas\\core\\frame.py\u001b[0m in \u001b[0;36m_combine_const\u001b[1;34m(self, other, func)\u001b[0m\n\u001b[0;32m   5401\u001b[0m     \u001b[1;32mdef\u001b[0m \u001b[0m_combine_const\u001b[0m\u001b[1;33m(\u001b[0m\u001b[0mself\u001b[0m\u001b[1;33m,\u001b[0m \u001b[0mother\u001b[0m\u001b[1;33m,\u001b[0m \u001b[0mfunc\u001b[0m\u001b[1;33m)\u001b[0m\u001b[1;33m:\u001b[0m\u001b[1;33m\u001b[0m\u001b[1;33m\u001b[0m\u001b[0m\n\u001b[0;32m   5402\u001b[0m         \u001b[1;32massert\u001b[0m \u001b[0mlib\u001b[0m\u001b[1;33m.\u001b[0m\u001b[0mis_scalar\u001b[0m\u001b[1;33m(\u001b[0m\u001b[0mother\u001b[0m\u001b[1;33m)\u001b[0m \u001b[1;32mor\u001b[0m \u001b[0mnp\u001b[0m\u001b[1;33m.\u001b[0m\u001b[0mndim\u001b[0m\u001b[1;33m(\u001b[0m\u001b[0mother\u001b[0m\u001b[1;33m)\u001b[0m \u001b[1;33m==\u001b[0m \u001b[1;36m0\u001b[0m\u001b[1;33m\u001b[0m\u001b[1;33m\u001b[0m\u001b[0m\n\u001b[1;32m-> 5403\u001b[1;33m         \u001b[1;32mreturn\u001b[0m \u001b[0mops\u001b[0m\u001b[1;33m.\u001b[0m\u001b[0mdispatch_to_series\u001b[0m\u001b[1;33m(\u001b[0m\u001b[0mself\u001b[0m\u001b[1;33m,\u001b[0m \u001b[0mother\u001b[0m\u001b[1;33m,\u001b[0m \u001b[0mfunc\u001b[0m\u001b[1;33m)\u001b[0m\u001b[1;33m\u001b[0m\u001b[1;33m\u001b[0m\u001b[0m\n\u001b[0m\u001b[0;32m   5404\u001b[0m \u001b[1;33m\u001b[0m\u001b[0m\n\u001b[0;32m   5405\u001b[0m     \u001b[1;32mdef\u001b[0m \u001b[0mcombine\u001b[0m\u001b[1;33m(\u001b[0m\u001b[0mself\u001b[0m\u001b[1;33m,\u001b[0m \u001b[0mother\u001b[0m\u001b[1;33m,\u001b[0m \u001b[0mfunc\u001b[0m\u001b[1;33m,\u001b[0m \u001b[0mfill_value\u001b[0m\u001b[1;33m=\u001b[0m\u001b[1;32mNone\u001b[0m\u001b[1;33m,\u001b[0m \u001b[0moverwrite\u001b[0m\u001b[1;33m=\u001b[0m\u001b[1;32mTrue\u001b[0m\u001b[1;33m)\u001b[0m\u001b[1;33m:\u001b[0m\u001b[1;33m\u001b[0m\u001b[1;33m\u001b[0m\u001b[0m\n",
      "\u001b[1;32m~\\Anaconda3\\lib\\site-packages\\pandas\\core\\ops\\__init__.py\u001b[0m in \u001b[0;36mdispatch_to_series\u001b[1;34m(left, right, func, str_rep, axis)\u001b[0m\n\u001b[0;32m    594\u001b[0m         \u001b[1;32mraise\u001b[0m \u001b[0mNotImplementedError\u001b[0m\u001b[1;33m(\u001b[0m\u001b[0mright\u001b[0m\u001b[1;33m)\u001b[0m\u001b[1;33m\u001b[0m\u001b[1;33m\u001b[0m\u001b[0m\n\u001b[0;32m    595\u001b[0m \u001b[1;33m\u001b[0m\u001b[0m\n\u001b[1;32m--> 596\u001b[1;33m     \u001b[0mnew_data\u001b[0m \u001b[1;33m=\u001b[0m \u001b[0mexpressions\u001b[0m\u001b[1;33m.\u001b[0m\u001b[0mevaluate\u001b[0m\u001b[1;33m(\u001b[0m\u001b[0mcolumn_op\u001b[0m\u001b[1;33m,\u001b[0m \u001b[0mstr_rep\u001b[0m\u001b[1;33m,\u001b[0m \u001b[0mleft\u001b[0m\u001b[1;33m,\u001b[0m \u001b[0mright\u001b[0m\u001b[1;33m)\u001b[0m\u001b[1;33m\u001b[0m\u001b[1;33m\u001b[0m\u001b[0m\n\u001b[0m\u001b[0;32m    597\u001b[0m \u001b[1;33m\u001b[0m\u001b[0m\n\u001b[0;32m    598\u001b[0m     \u001b[0mresult\u001b[0m \u001b[1;33m=\u001b[0m \u001b[0mleft\u001b[0m\u001b[1;33m.\u001b[0m\u001b[0m_constructor\u001b[0m\u001b[1;33m(\u001b[0m\u001b[0mnew_data\u001b[0m\u001b[1;33m,\u001b[0m \u001b[0mindex\u001b[0m\u001b[1;33m=\u001b[0m\u001b[0mleft\u001b[0m\u001b[1;33m.\u001b[0m\u001b[0mindex\u001b[0m\u001b[1;33m,\u001b[0m \u001b[0mcopy\u001b[0m\u001b[1;33m=\u001b[0m\u001b[1;32mFalse\u001b[0m\u001b[1;33m)\u001b[0m\u001b[1;33m\u001b[0m\u001b[1;33m\u001b[0m\u001b[0m\n",
      "\u001b[1;32m~\\Anaconda3\\lib\\site-packages\\pandas\\core\\computation\\expressions.py\u001b[0m in \u001b[0;36mevaluate\u001b[1;34m(op, op_str, a, b, use_numexpr, **eval_kwargs)\u001b[0m\n\u001b[0;32m    219\u001b[0m     \u001b[0muse_numexpr\u001b[0m \u001b[1;33m=\u001b[0m \u001b[0muse_numexpr\u001b[0m \u001b[1;32mand\u001b[0m \u001b[0m_bool_arith_check\u001b[0m\u001b[1;33m(\u001b[0m\u001b[0mop_str\u001b[0m\u001b[1;33m,\u001b[0m \u001b[0ma\u001b[0m\u001b[1;33m,\u001b[0m \u001b[0mb\u001b[0m\u001b[1;33m)\u001b[0m\u001b[1;33m\u001b[0m\u001b[1;33m\u001b[0m\u001b[0m\n\u001b[0;32m    220\u001b[0m     \u001b[1;32mif\u001b[0m \u001b[0muse_numexpr\u001b[0m\u001b[1;33m:\u001b[0m\u001b[1;33m\u001b[0m\u001b[1;33m\u001b[0m\u001b[0m\n\u001b[1;32m--> 221\u001b[1;33m         \u001b[1;32mreturn\u001b[0m \u001b[0m_evaluate\u001b[0m\u001b[1;33m(\u001b[0m\u001b[0mop\u001b[0m\u001b[1;33m,\u001b[0m \u001b[0mop_str\u001b[0m\u001b[1;33m,\u001b[0m \u001b[0ma\u001b[0m\u001b[1;33m,\u001b[0m \u001b[0mb\u001b[0m\u001b[1;33m,\u001b[0m \u001b[1;33m**\u001b[0m\u001b[0meval_kwargs\u001b[0m\u001b[1;33m)\u001b[0m\u001b[1;33m\u001b[0m\u001b[1;33m\u001b[0m\u001b[0m\n\u001b[0m\u001b[0;32m    222\u001b[0m     \u001b[1;32mreturn\u001b[0m \u001b[0m_evaluate_standard\u001b[0m\u001b[1;33m(\u001b[0m\u001b[0mop\u001b[0m\u001b[1;33m,\u001b[0m \u001b[0mop_str\u001b[0m\u001b[1;33m,\u001b[0m \u001b[0ma\u001b[0m\u001b[1;33m,\u001b[0m \u001b[0mb\u001b[0m\u001b[1;33m)\u001b[0m\u001b[1;33m\u001b[0m\u001b[1;33m\u001b[0m\u001b[0m\n\u001b[0;32m    223\u001b[0m \u001b[1;33m\u001b[0m\u001b[0m\n",
      "\u001b[1;32m~\\Anaconda3\\lib\\site-packages\\pandas\\core\\computation\\expressions.py\u001b[0m in \u001b[0;36m_evaluate_numexpr\u001b[1;34m(op, op_str, a, b, truediv, reversed, **eval_kwargs)\u001b[0m\n\u001b[0;32m    125\u001b[0m \u001b[1;33m\u001b[0m\u001b[0m\n\u001b[0;32m    126\u001b[0m     \u001b[1;32mif\u001b[0m \u001b[0mresult\u001b[0m \u001b[1;32mis\u001b[0m \u001b[1;32mNone\u001b[0m\u001b[1;33m:\u001b[0m\u001b[1;33m\u001b[0m\u001b[1;33m\u001b[0m\u001b[0m\n\u001b[1;32m--> 127\u001b[1;33m         \u001b[0mresult\u001b[0m \u001b[1;33m=\u001b[0m \u001b[0m_evaluate_standard\u001b[0m\u001b[1;33m(\u001b[0m\u001b[0mop\u001b[0m\u001b[1;33m,\u001b[0m \u001b[0mop_str\u001b[0m\u001b[1;33m,\u001b[0m \u001b[0ma\u001b[0m\u001b[1;33m,\u001b[0m \u001b[0mb\u001b[0m\u001b[1;33m)\u001b[0m\u001b[1;33m\u001b[0m\u001b[1;33m\u001b[0m\u001b[0m\n\u001b[0m\u001b[0;32m    128\u001b[0m \u001b[1;33m\u001b[0m\u001b[0m\n\u001b[0;32m    129\u001b[0m     \u001b[1;32mreturn\u001b[0m \u001b[0mresult\u001b[0m\u001b[1;33m\u001b[0m\u001b[1;33m\u001b[0m\u001b[0m\n",
      "\u001b[1;32m~\\Anaconda3\\lib\\site-packages\\pandas\\core\\computation\\expressions.py\u001b[0m in \u001b[0;36m_evaluate_standard\u001b[1;34m(op, op_str, a, b, **eval_kwargs)\u001b[0m\n\u001b[0;32m     68\u001b[0m         \u001b[0m_store_test_result\u001b[0m\u001b[1;33m(\u001b[0m\u001b[1;32mFalse\u001b[0m\u001b[1;33m)\u001b[0m\u001b[1;33m\u001b[0m\u001b[1;33m\u001b[0m\u001b[0m\n\u001b[0;32m     69\u001b[0m     \u001b[1;32mwith\u001b[0m \u001b[0mnp\u001b[0m\u001b[1;33m.\u001b[0m\u001b[0merrstate\u001b[0m\u001b[1;33m(\u001b[0m\u001b[0mall\u001b[0m\u001b[1;33m=\u001b[0m\u001b[1;34m\"ignore\"\u001b[0m\u001b[1;33m)\u001b[0m\u001b[1;33m:\u001b[0m\u001b[1;33m\u001b[0m\u001b[1;33m\u001b[0m\u001b[0m\n\u001b[1;32m---> 70\u001b[1;33m         \u001b[1;32mreturn\u001b[0m \u001b[0mop\u001b[0m\u001b[1;33m(\u001b[0m\u001b[0ma\u001b[0m\u001b[1;33m,\u001b[0m \u001b[0mb\u001b[0m\u001b[1;33m)\u001b[0m\u001b[1;33m\u001b[0m\u001b[1;33m\u001b[0m\u001b[0m\n\u001b[0m\u001b[0;32m     71\u001b[0m \u001b[1;33m\u001b[0m\u001b[0m\n\u001b[0;32m     72\u001b[0m \u001b[1;33m\u001b[0m\u001b[0m\n",
      "\u001b[1;32m~\\Anaconda3\\lib\\site-packages\\pandas\\core\\ops\\__init__.py\u001b[0m in \u001b[0;36mcolumn_op\u001b[1;34m(a, b)\u001b[0m\n\u001b[0;32m    568\u001b[0m \u001b[1;33m\u001b[0m\u001b[0m\n\u001b[0;32m    569\u001b[0m         \u001b[1;32mdef\u001b[0m \u001b[0mcolumn_op\u001b[0m\u001b[1;33m(\u001b[0m\u001b[0ma\u001b[0m\u001b[1;33m,\u001b[0m \u001b[0mb\u001b[0m\u001b[1;33m)\u001b[0m\u001b[1;33m:\u001b[0m\u001b[1;33m\u001b[0m\u001b[1;33m\u001b[0m\u001b[0m\n\u001b[1;32m--> 570\u001b[1;33m             \u001b[1;32mreturn\u001b[0m \u001b[1;33m{\u001b[0m\u001b[0mi\u001b[0m\u001b[1;33m:\u001b[0m \u001b[0mfunc\u001b[0m\u001b[1;33m(\u001b[0m\u001b[0ma\u001b[0m\u001b[1;33m.\u001b[0m\u001b[0miloc\u001b[0m\u001b[1;33m[\u001b[0m\u001b[1;33m:\u001b[0m\u001b[1;33m,\u001b[0m \u001b[0mi\u001b[0m\u001b[1;33m]\u001b[0m\u001b[1;33m,\u001b[0m \u001b[0mb\u001b[0m\u001b[1;33m)\u001b[0m \u001b[1;32mfor\u001b[0m \u001b[0mi\u001b[0m \u001b[1;32min\u001b[0m \u001b[0mrange\u001b[0m\u001b[1;33m(\u001b[0m\u001b[0mlen\u001b[0m\u001b[1;33m(\u001b[0m\u001b[0ma\u001b[0m\u001b[1;33m.\u001b[0m\u001b[0mcolumns\u001b[0m\u001b[1;33m)\u001b[0m\u001b[1;33m)\u001b[0m\u001b[1;33m}\u001b[0m\u001b[1;33m\u001b[0m\u001b[1;33m\u001b[0m\u001b[0m\n\u001b[0m\u001b[0;32m    571\u001b[0m \u001b[1;33m\u001b[0m\u001b[0m\n\u001b[0;32m    572\u001b[0m     \u001b[1;32melif\u001b[0m \u001b[0misinstance\u001b[0m\u001b[1;33m(\u001b[0m\u001b[0mright\u001b[0m\u001b[1;33m,\u001b[0m \u001b[0mABCDataFrame\u001b[0m\u001b[1;33m)\u001b[0m\u001b[1;33m:\u001b[0m\u001b[1;33m\u001b[0m\u001b[1;33m\u001b[0m\u001b[0m\n",
      "\u001b[1;32m~\\Anaconda3\\lib\\site-packages\\pandas\\core\\ops\\__init__.py\u001b[0m in \u001b[0;36m<dictcomp>\u001b[1;34m(.0)\u001b[0m\n\u001b[0;32m    568\u001b[0m \u001b[1;33m\u001b[0m\u001b[0m\n\u001b[0;32m    569\u001b[0m         \u001b[1;32mdef\u001b[0m \u001b[0mcolumn_op\u001b[0m\u001b[1;33m(\u001b[0m\u001b[0ma\u001b[0m\u001b[1;33m,\u001b[0m \u001b[0mb\u001b[0m\u001b[1;33m)\u001b[0m\u001b[1;33m:\u001b[0m\u001b[1;33m\u001b[0m\u001b[1;33m\u001b[0m\u001b[0m\n\u001b[1;32m--> 570\u001b[1;33m             \u001b[1;32mreturn\u001b[0m \u001b[1;33m{\u001b[0m\u001b[0mi\u001b[0m\u001b[1;33m:\u001b[0m \u001b[0mfunc\u001b[0m\u001b[1;33m(\u001b[0m\u001b[0ma\u001b[0m\u001b[1;33m.\u001b[0m\u001b[0miloc\u001b[0m\u001b[1;33m[\u001b[0m\u001b[1;33m:\u001b[0m\u001b[1;33m,\u001b[0m \u001b[0mi\u001b[0m\u001b[1;33m]\u001b[0m\u001b[1;33m,\u001b[0m \u001b[0mb\u001b[0m\u001b[1;33m)\u001b[0m \u001b[1;32mfor\u001b[0m \u001b[0mi\u001b[0m \u001b[1;32min\u001b[0m \u001b[0mrange\u001b[0m\u001b[1;33m(\u001b[0m\u001b[0mlen\u001b[0m\u001b[1;33m(\u001b[0m\u001b[0ma\u001b[0m\u001b[1;33m.\u001b[0m\u001b[0mcolumns\u001b[0m\u001b[1;33m)\u001b[0m\u001b[1;33m)\u001b[0m\u001b[1;33m}\u001b[0m\u001b[1;33m\u001b[0m\u001b[1;33m\u001b[0m\u001b[0m\n\u001b[0m\u001b[0;32m    571\u001b[0m \u001b[1;33m\u001b[0m\u001b[0m\n\u001b[0;32m    572\u001b[0m     \u001b[1;32melif\u001b[0m \u001b[0misinstance\u001b[0m\u001b[1;33m(\u001b[0m\u001b[0mright\u001b[0m\u001b[1;33m,\u001b[0m \u001b[0mABCDataFrame\u001b[0m\u001b[1;33m)\u001b[0m\u001b[1;33m:\u001b[0m\u001b[1;33m\u001b[0m\u001b[1;33m\u001b[0m\u001b[0m\n",
      "\u001b[1;32m~\\Anaconda3\\lib\\site-packages\\pandas\\core\\ops\\roperator.py\u001b[0m in \u001b[0;36mror_\u001b[1;34m(left, right)\u001b[0m\n\u001b[0;32m     55\u001b[0m \u001b[1;33m\u001b[0m\u001b[0m\n\u001b[0;32m     56\u001b[0m \u001b[1;32mdef\u001b[0m \u001b[0mror_\u001b[0m\u001b[1;33m(\u001b[0m\u001b[0mleft\u001b[0m\u001b[1;33m,\u001b[0m \u001b[0mright\u001b[0m\u001b[1;33m)\u001b[0m\u001b[1;33m:\u001b[0m\u001b[1;33m\u001b[0m\u001b[1;33m\u001b[0m\u001b[0m\n\u001b[1;32m---> 57\u001b[1;33m     \u001b[1;32mreturn\u001b[0m \u001b[0moperator\u001b[0m\u001b[1;33m.\u001b[0m\u001b[0mor_\u001b[0m\u001b[1;33m(\u001b[0m\u001b[0mright\u001b[0m\u001b[1;33m,\u001b[0m \u001b[0mleft\u001b[0m\u001b[1;33m)\u001b[0m\u001b[1;33m\u001b[0m\u001b[1;33m\u001b[0m\u001b[0m\n\u001b[0m\u001b[0;32m     58\u001b[0m \u001b[1;33m\u001b[0m\u001b[0m\n\u001b[0;32m     59\u001b[0m \u001b[1;33m\u001b[0m\u001b[0m\n",
      "\u001b[1;32m~\\Anaconda3\\lib\\site-packages\\pandas\\core\\ops\\__init__.py\u001b[0m in \u001b[0;36mwrapper\u001b[1;34m(self, other)\u001b[0m\n\u001b[0;32m   1319\u001b[0m         \u001b[1;31m#   integer dtypes.  Otherwise these are boolean ops\u001b[0m\u001b[1;33m\u001b[0m\u001b[1;33m\u001b[0m\u001b[1;33m\u001b[0m\u001b[0m\n\u001b[0;32m   1320\u001b[0m         \u001b[0mfiller\u001b[0m \u001b[1;33m=\u001b[0m \u001b[0mfill_int\u001b[0m \u001b[1;32mif\u001b[0m \u001b[0mis_self_int_dtype\u001b[0m \u001b[1;32mand\u001b[0m \u001b[0mis_other_int_dtype\u001b[0m \u001b[1;32melse\u001b[0m \u001b[0mfill_bool\u001b[0m\u001b[1;33m\u001b[0m\u001b[1;33m\u001b[0m\u001b[0m\n\u001b[1;32m-> 1321\u001b[1;33m         \u001b[0mres_values\u001b[0m \u001b[1;33m=\u001b[0m \u001b[0mna_op\u001b[0m\u001b[1;33m(\u001b[0m\u001b[0mself\u001b[0m\u001b[1;33m.\u001b[0m\u001b[0mvalues\u001b[0m\u001b[1;33m,\u001b[0m \u001b[0movalues\u001b[0m\u001b[1;33m)\u001b[0m\u001b[1;33m\u001b[0m\u001b[1;33m\u001b[0m\u001b[0m\n\u001b[0m\u001b[0;32m   1322\u001b[0m         \u001b[0munfilled\u001b[0m \u001b[1;33m=\u001b[0m \u001b[0mself\u001b[0m\u001b[1;33m.\u001b[0m\u001b[0m_constructor\u001b[0m\u001b[1;33m(\u001b[0m\u001b[0mres_values\u001b[0m\u001b[1;33m,\u001b[0m \u001b[0mindex\u001b[0m\u001b[1;33m=\u001b[0m\u001b[0mself\u001b[0m\u001b[1;33m.\u001b[0m\u001b[0mindex\u001b[0m\u001b[1;33m,\u001b[0m \u001b[0mname\u001b[0m\u001b[1;33m=\u001b[0m\u001b[0mres_name\u001b[0m\u001b[1;33m)\u001b[0m\u001b[1;33m\u001b[0m\u001b[1;33m\u001b[0m\u001b[0m\n\u001b[0;32m   1323\u001b[0m         \u001b[0mfilled\u001b[0m \u001b[1;33m=\u001b[0m \u001b[0mfiller\u001b[0m\u001b[1;33m(\u001b[0m\u001b[0munfilled\u001b[0m\u001b[1;33m)\u001b[0m\u001b[1;33m\u001b[0m\u001b[1;33m\u001b[0m\u001b[0m\n",
      "\u001b[1;32m~\\Anaconda3\\lib\\site-packages\\pandas\\core\\ops\\__init__.py\u001b[0m in \u001b[0;36mna_op\u001b[1;34m(x, y)\u001b[0m\n\u001b[0;32m   1278\u001b[0m                         \u001b[1;34m\"cannot compare a dtyped [{dtype}] array \"\u001b[0m\u001b[1;33m\u001b[0m\u001b[1;33m\u001b[0m\u001b[0m\n\u001b[0;32m   1279\u001b[0m                         \"with a scalar of type [{typ}]\".format(\n\u001b[1;32m-> 1280\u001b[1;33m                             \u001b[0mdtype\u001b[0m\u001b[1;33m=\u001b[0m\u001b[0mx\u001b[0m\u001b[1;33m.\u001b[0m\u001b[0mdtype\u001b[0m\u001b[1;33m,\u001b[0m \u001b[0mtyp\u001b[0m\u001b[1;33m=\u001b[0m\u001b[0mtype\u001b[0m\u001b[1;33m(\u001b[0m\u001b[0my\u001b[0m\u001b[1;33m)\u001b[0m\u001b[1;33m.\u001b[0m\u001b[0m__name__\u001b[0m\u001b[1;33m\u001b[0m\u001b[1;33m\u001b[0m\u001b[0m\n\u001b[0m\u001b[0;32m   1281\u001b[0m                         )\n\u001b[0;32m   1282\u001b[0m                     )\n",
      "\u001b[1;31mTypeError\u001b[0m: cannot compare a dtyped [bool] array with a scalar of type [NoneType]"
     ]
    }
   ],
   "source": [
    "print(data < (Q1 - 1.5 * IQR)) |(data > (Q3 + 1.5 * IQR))"
   ]
  },
  {
   "cell_type": "code",
   "execution_count": 40,
   "metadata": {},
   "outputs": [
    {
     "data": {
      "text/plain": [
       "(845, 68)"
      ]
     },
     "execution_count": 40,
     "metadata": {},
     "output_type": "execute_result"
    }
   ],
   "source": [
    "data_df_out = data[~((data < (Q1 - 1.5 * IQR)) |(data > (Q3 + 1.5 * IQR))).any(axis=1)]\n",
    "data_df_out.shape"
   ]
  },
  {
   "cell_type": "code",
   "execution_count": 41,
   "metadata": {},
   "outputs": [
    {
     "data": {
      "text/plain": [
       "<matplotlib.axes._subplots.AxesSubplot at 0x226d1286d88>"
      ]
     },
     "execution_count": 41,
     "metadata": {},
     "output_type": "execute_result"
    },
    {
     "data": {
      "image/png": "[encoded data removed]",
      "text/plain": [
       "<Figure size 432x288 with 1 Axes>"
      ]
     },
     "metadata": {
      "needs_background": "light"
     },
     "output_type": "display_data"
    }
   ],
   "source": [
    "data_df_out.plot.scatter(x='credit_amount_avg', y='debit_amount_avg')"
   ]
  },
  {
   "cell_type": "code",
   "execution_count": 42,
   "metadata": {},
   "outputs": [
    {
     "data": {
      "text/html": [
       "<div>\n",
       "<style scoped>\n",
       "    .dataframe tbody tr th:only-of-type {\n",
       "        vertical-align: middle;\n",
       "    }\n",
       "\n",
       "    .dataframe tbody tr th {\n",
       "        vertical-align: top;\n",
       "    }\n",
       "\n",
       "    .dataframe thead th {\n",
       "        text-align: right;\n",
       "    }\n",
       "</style>\n",
       "<table border=\"1\" class=\"dataframe\">\n",
       "  <thead>\n",
       "    <tr style=\"text-align: right;\">\n",
       "      <th></th>\n",
       "      <th>account_type</th>\n",
       "      <th>gender</th>\n",
       "      <th>age</th>\n",
       "      <th>region_code</th>\n",
       "      <th>dc_cons_apr</th>\n",
       "      <th>dc_cons_may</th>\n",
       "      <th>dc_cons_jun</th>\n",
       "      <th>cc_count_apr</th>\n",
       "      <th>cc_count_may</th>\n",
       "      <th>cc_count_jun</th>\n",
       "      <th>...</th>\n",
       "      <th>dc_cons_jun_prop</th>\n",
       "      <th>credit_amount_apr_prop</th>\n",
       "      <th>credit_amount_may_prop</th>\n",
       "      <th>credit_amount_jun_prop</th>\n",
       "      <th>debit_amount_apr_prop</th>\n",
       "      <th>debit_amount_may_prop</th>\n",
       "      <th>debit_amount_jun_prop</th>\n",
       "      <th>debit_by_credit_amount_ratio_apr</th>\n",
       "      <th>debit_by_credit_amount_ratio_may</th>\n",
       "      <th>debit_by_credit_amount_ratio_jun</th>\n",
       "    </tr>\n",
       "  </thead>\n",
       "  <tbody>\n",
       "    <tr>\n",
       "      <td>count</td>\n",
       "      <td>15000.000000</td>\n",
       "      <td>15000.000000</td>\n",
       "      <td>15000.000000</td>\n",
       "      <td>15000.000000</td>\n",
       "      <td>15000.000000</td>\n",
       "      <td>15000.000000</td>\n",
       "      <td>15000.000000</td>\n",
       "      <td>15000.000000</td>\n",
       "      <td>15000.000000</td>\n",
       "      <td>15000.000000</td>\n",
       "      <td>...</td>\n",
       "      <td>15000.000000</td>\n",
       "      <td>15000.000000</td>\n",
       "      <td>15000.000000</td>\n",
       "      <td>15000.000000</td>\n",
       "      <td>15000.000000</td>\n",
       "      <td>15000.000000</td>\n",
       "      <td>15000.000000</td>\n",
       "      <td>15000.000000</td>\n",
       "      <td>15000.000000</td>\n",
       "      <td>15000.000000</td>\n",
       "    </tr>\n",
       "    <tr>\n",
       "      <td>mean</td>\n",
       "      <td>0.786467</td>\n",
       "      <td>0.147067</td>\n",
       "      <td>35.821400</td>\n",
       "      <td>556.877333</td>\n",
       "      <td>4651.061948</td>\n",
       "      <td>11219.771785</td>\n",
       "      <td>3242.686802</td>\n",
       "      <td>9.059000</td>\n",
       "      <td>9.475600</td>\n",
       "      <td>19.177267</td>\n",
       "      <td>...</td>\n",
       "      <td>0.188472</td>\n",
       "      <td>0.197377</td>\n",
       "      <td>0.311359</td>\n",
       "      <td>0.491264</td>\n",
       "      <td>0.206349</td>\n",
       "      <td>0.302675</td>\n",
       "      <td>0.490976</td>\n",
       "      <td>5.806823</td>\n",
       "      <td>4.987320</td>\n",
       "      <td>7.168002</td>\n",
       "    </tr>\n",
       "    <tr>\n",
       "      <td>std</td>\n",
       "      <td>0.409815</td>\n",
       "      <td>0.354184</td>\n",
       "      <td>8.375531</td>\n",
       "      <td>192.645289</td>\n",
       "      <td>9012.245093</td>\n",
       "      <td>16379.201342</td>\n",
       "      <td>7358.137748</td>\n",
       "      <td>8.140528</td>\n",
       "      <td>8.901791</td>\n",
       "      <td>12.001471</td>\n",
       "      <td>...</td>\n",
       "      <td>0.214388</td>\n",
       "      <td>0.135622</td>\n",
       "      <td>0.173891</td>\n",
       "      <td>0.204044</td>\n",
       "      <td>0.150589</td>\n",
       "      <td>0.173983</td>\n",
       "      <td>0.206204</td>\n",
       "      <td>136.034357</td>\n",
       "      <td>77.968621</td>\n",
       "      <td>216.282614</td>\n",
       "    </tr>\n",
       "    <tr>\n",
       "      <td>min</td>\n",
       "      <td>0.000000</td>\n",
       "      <td>0.000000</td>\n",
       "      <td>22.000000</td>\n",
       "      <td>129.000000</td>\n",
       "      <td>0.000000</td>\n",
       "      <td>0.000000</td>\n",
       "      <td>0.000000</td>\n",
       "      <td>1.000000</td>\n",
       "      <td>1.000000</td>\n",
       "      <td>1.000000</td>\n",
       "      <td>...</td>\n",
       "      <td>0.000000</td>\n",
       "      <td>0.000089</td>\n",
       "      <td>0.000096</td>\n",
       "      <td>0.000045</td>\n",
       "      <td>0.000030</td>\n",
       "      <td>0.000018</td>\n",
       "      <td>0.000145</td>\n",
       "      <td>0.000180</td>\n",
       "      <td>0.000189</td>\n",
       "      <td>0.000081</td>\n",
       "    </tr>\n",
       "    <tr>\n",
       "      <td>25%</td>\n",
       "      <td>1.000000</td>\n",
       "      <td>0.000000</td>\n",
       "      <td>30.000000</td>\n",
       "      <td>450.750000</td>\n",
       "      <td>0.000000</td>\n",
       "      <td>0.000000</td>\n",
       "      <td>0.000000</td>\n",
       "      <td>3.000000</td>\n",
       "      <td>3.000000</td>\n",
       "      <td>10.000000</td>\n",
       "      <td>...</td>\n",
       "      <td>0.000000</td>\n",
       "      <td>0.103569</td>\n",
       "      <td>0.190336</td>\n",
       "      <td>0.361858</td>\n",
       "      <td>0.102532</td>\n",
       "      <td>0.176504</td>\n",
       "      <td>0.360599</td>\n",
       "      <td>0.544474</td>\n",
       "      <td>0.538281</td>\n",
       "      <td>0.542524</td>\n",
       "    </tr>\n",
       "    <tr>\n",
       "      <td>50%</td>\n",
       "      <td>1.000000</td>\n",
       "      <td>0.000000</td>\n",
       "      <td>34.000000</td>\n",
       "      <td>566.000000</td>\n",
       "      <td>0.000000</td>\n",
       "      <td>0.000000</td>\n",
       "      <td>0.000000</td>\n",
       "      <td>7.000000</td>\n",
       "      <td>7.000000</td>\n",
       "      <td>19.000000</td>\n",
       "      <td>...</td>\n",
       "      <td>0.188472</td>\n",
       "      <td>0.182124</td>\n",
       "      <td>0.296295</td>\n",
       "      <td>0.513500</td>\n",
       "      <td>0.187046</td>\n",
       "      <td>0.285947</td>\n",
       "      <td>0.512417</td>\n",
       "      <td>1.074823</td>\n",
       "      <td>1.010709</td>\n",
       "      <td>1.016747</td>\n",
       "    </tr>\n",
       "    <tr>\n",
       "      <td>75%</td>\n",
       "      <td>1.000000</td>\n",
       "      <td>0.000000</td>\n",
       "      <td>39.000000</td>\n",
       "      <td>710.000000</td>\n",
       "      <td>7961.438852</td>\n",
       "      <td>21839.681968</td>\n",
       "      <td>4595.398707</td>\n",
       "      <td>12.000000</td>\n",
       "      <td>12.000000</td>\n",
       "      <td>26.000000</td>\n",
       "      <td>...</td>\n",
       "      <td>0.188472</td>\n",
       "      <td>0.255517</td>\n",
       "      <td>0.410960</td>\n",
       "      <td>0.632680</td>\n",
       "      <td>0.266216</td>\n",
       "      <td>0.401547</td>\n",
       "      <td>0.635299</td>\n",
       "      <td>1.921975</td>\n",
       "      <td>1.815741</td>\n",
       "      <td>1.971796</td>\n",
       "    </tr>\n",
       "    <tr>\n",
       "      <td>max</td>\n",
       "      <td>1.000000</td>\n",
       "      <td>1.000000</td>\n",
       "      <td>223.000000</td>\n",
       "      <td>977.000000</td>\n",
       "      <td>361712.821531</td>\n",
       "      <td>343536.313152</td>\n",
       "      <td>292828.344121</td>\n",
       "      <td>100.000000</td>\n",
       "      <td>130.000000</td>\n",
       "      <td>137.000000</td>\n",
       "      <td>...</td>\n",
       "      <td>1.000000</td>\n",
       "      <td>0.958185</td>\n",
       "      <td>0.968838</td>\n",
       "      <td>0.988057</td>\n",
       "      <td>0.991287</td>\n",
       "      <td>0.998519</td>\n",
       "      <td>0.991517</td>\n",
       "      <td>15335.628965</td>\n",
       "      <td>6830.906149</td>\n",
       "      <td>21477.839041</td>\n",
       "    </tr>\n",
       "  </tbody>\n",
       "</table>\n",
       "<p>8 rows × 68 columns</p>\n",
       "</div>"
      ],
      "text/plain": [
       "       account_type        gender           age   region_code    dc_cons_apr  \\\n",
       "count  15000.000000  15000.000000  15000.000000  15000.000000   15000.000000   \n",
       "mean       0.786467      0.147067     35.821400    556.877333    4651.061948   \n",
       "std        0.409815      0.354184      8.375531    192.645289    9012.245093   \n",
       "min        0.000000      0.000000     22.000000    129.000000       0.000000   \n",
       "25%        1.000000      0.000000     30.000000    450.750000       0.000000   \n",
       "50%        1.000000      0.000000     34.000000    566.000000       0.000000   \n",
       "75%        1.000000      0.000000     39.000000    710.000000    7961.438852   \n",
       "max        1.000000      1.000000    223.000000    977.000000  361712.821531   \n",
       "\n",
       "         dc_cons_may    dc_cons_jun  cc_count_apr  cc_count_may  cc_count_jun  \\\n",
       "count   15000.000000   15000.000000  15000.000000  15000.000000  15000.000000   \n",
       "mean    11219.771785    3242.686802      9.059000      9.475600     19.177267   \n",
       "std     16379.201342    7358.137748      8.140528      8.901791     12.001471   \n",
       "min         0.000000       0.000000      1.000000      1.000000      1.000000   \n",
       "25%         0.000000       0.000000      3.000000      3.000000     10.000000   \n",
       "50%         0.000000       0.000000      7.000000      7.000000     19.000000   \n",
       "75%     21839.681968    4595.398707     12.000000     12.000000     26.000000   \n",
       "max    343536.313152  292828.344121    100.000000    130.000000    137.000000   \n",
       "\n",
       "       ...  dc_cons_jun_prop  credit_amount_apr_prop  credit_amount_may_prop  \\\n",
       "count  ...      15000.000000            15000.000000            15000.000000   \n",
       "mean   ...          0.188472                0.197377                0.311359   \n",
       "std    ...          0.214388                0.135622                0.173891   \n",
       "min    ...          0.000000                0.000089                0.000096   \n",
       "25%    ...          0.000000                0.103569                0.190336   \n",
       "50%    ...          0.188472                0.182124                0.296295   \n",
       "75%    ...          0.188472                0.255517                0.410960   \n",
       "max    ...          1.000000                0.958185                0.968838   \n",
       "\n",
       "       credit_amount_jun_prop  debit_amount_apr_prop  debit_amount_may_prop  \\\n",
       "count            15000.000000           15000.000000           15000.000000   \n",
       "mean                 0.491264               0.206349               0.302675   \n",
       "std                  0.204044               0.150589               0.173983   \n",
       "min                  0.000045               0.000030               0.000018   \n",
       "25%                  0.361858               0.102532               0.176504   \n",
       "50%                  0.513500               0.187046               0.285947   \n",
       "75%                  0.632680               0.266216               0.401547   \n",
       "max                  0.988057               0.991287               0.998519   \n",
       "\n",
       "       debit_amount_jun_prop  debit_by_credit_amount_ratio_apr  \\\n",
       "count           15000.000000                      15000.000000   \n",
       "mean                0.490976                          5.806823   \n",
       "std                 0.206204                        136.034357   \n",
       "min                 0.000145                          0.000180   \n",
       "25%                 0.360599                          0.544474   \n",
       "50%                 0.512417                          1.074823   \n",
       "75%                 0.635299                          1.921975   \n",
       "max                 0.991517                      15335.628965   \n",
       "\n",
       "       debit_by_credit_amount_ratio_may  debit_by_credit_amount_ratio_jun  \n",
       "count                      15000.000000                      15000.000000  \n",
       "mean                           4.987320                          7.168002  \n",
       "std                           77.968621                        216.282614  \n",
       "min                            0.000189                          0.000081  \n",
       "25%                            0.538281                          0.542524  \n",
       "50%                            1.010709                          1.016747  \n",
       "75%                            1.815741                          1.971796  \n",
       "max                         6830.906149                      21477.839041  \n",
       "\n",
       "[8 rows x 68 columns]"
      ]
     },
     "execution_count": 42,
     "metadata": {},
     "output_type": "execute_result"
    }
   ],
   "source": [
    "data.describe()"
   ]
  },
  {
   "cell_type": "code",
   "execution_count": 43,
   "metadata": {},
   "outputs": [
    {
     "data": {
      "text/plain": [
       "<matplotlib.axes._subplots.AxesSubplot at 0x226d1305548>"
      ]
     },
     "execution_count": 43,
     "metadata": {},
     "output_type": "execute_result"
    },
    {
     "data": {
      "image/png": "[encoded data removed]",
      "text/plain": [
       "<Figure size 432x288 with 1 Axes>"
      ]
     },
     "metadata": {
      "needs_background": "light"
     },
     "output_type": "display_data"
    }
   ],
   "source": [
    "sns.distplot(data_df_out['age'])"
   ]
  },
  {
   "cell_type": "code",
   "execution_count": 44,
   "metadata": {},
   "outputs": [
    {
     "data": {
      "text/plain": [
       "<matplotlib.axes._subplots.AxesSubplot at 0x226d102ca48>"
      ]
     },
     "execution_count": 44,
     "metadata": {},
     "output_type": "execute_result"
    },
    {
     "data": {
      "image/png": "[encoded data removed]",
      "text/plain": [
       "<Figure size 432x288 with 1 Axes>"
      ]
     },
     "metadata": {
      "needs_background": "light"
     },
     "output_type": "display_data"
    }
   ],
   "source": [
    "sns.distplot(data['age'])"
   ]
  },
  {
   "cell_type": "code",
   "execution_count": 45,
   "metadata": {
    "scrolled": true
   },
   "outputs": [
    {
     "data": {
      "text/plain": [
       "<matplotlib.axes._subplots.AxesSubplot at 0x226d1028c48>"
      ]
     },
     "execution_count": 45,
     "metadata": {},
     "output_type": "execute_result"
    },
    {
     "data": {
      "image/png": "[encoded data removed]",
      "text/plain": [
       "<Figure size 432x288 with 1 Axes>"
      ]
     },
     "metadata": {
      "needs_background": "light"
     },
     "output_type": "display_data"
    }
   ],
   "source": [
    "sns.distplot(data_df_out['max_credit_amount_apr'])"
   ]
  },
  {
   "cell_type": "code",
   "execution_count": 46,
   "metadata": {
    "scrolled": true
   },
   "outputs": [
    {
     "data": {
      "text/plain": [
       "<matplotlib.axes._subplots.AxesSubplot at 0x226d14cce08>"
      ]
     },
     "execution_count": 46,
     "metadata": {},
     "output_type": "execute_result"
    },
    {
     "data": {
      "image/png": "[encoded data removed]",
      "text/plain": [
       "<Figure size 432x288 with 1 Axes>"
      ]
     },
     "metadata": {
      "needs_background": "light"
     },
     "output_type": "display_data"
    }
   ],
   "source": [
    "sns.distplot(data['max_credit_amount_apr'])"
   ]
  },
  {
   "cell_type": "code",
   "execution_count": 47,
   "metadata": {},
   "outputs": [
    {
     "data": {
      "text/plain": [
       "<matplotlib.axes._subplots.AxesSubplot at 0x226d15da308>"
      ]
     },
     "execution_count": 47,
     "metadata": {},
     "output_type": "execute_result"
    },
    {
     "data": {
      "image/png": "[encoded data removed]",
      "text/plain": [
       "<Figure size 432x288 with 1 Axes>"
      ]
     },
     "metadata": {
      "needs_background": "light"
     },
     "output_type": "display_data"
    }
   ],
   "source": [
    "sns.distplot(data['cc_count_apr'])"
   ]
  },
  {
   "cell_type": "code",
   "execution_count": 48,
   "metadata": {},
   "outputs": [
    {
     "data": {
      "text/plain": [
       "<matplotlib.axes._subplots.AxesSubplot at 0x226d16bc6c8>"
      ]
     },
     "execution_count": 48,
     "metadata": {},
     "output_type": "execute_result"
    },
    {
     "data": {
      "image/png": "[encoded data removed]",
      "text/plain": [
       "<Figure size 432x288 with 1 Axes>"
      ]
     },
     "metadata": {
      "needs_background": "light"
     },
     "output_type": "display_data"
    }
   ],
   "source": [
    "sns.distplot(data_df_out['cc_count_apr'])"
   ]
  },
  {
   "cell_type": "code",
   "execution_count": 49,
   "metadata": {},
   "outputs": [
    {
     "data": {
      "text/plain": [
       "<matplotlib.axes._subplots.AxesSubplot at 0x226d1712748>"
      ]
     },
     "execution_count": 49,
     "metadata": {},
     "output_type": "execute_result"
    },
    {
     "data": {
      "image/png": "[encoded data removed]",
      "text/plain": [
       "<Figure size 432x288 with 1 Axes>"
      ]
     },
     "metadata": {
      "needs_background": "light"
     },
     "output_type": "display_data"
    }
   ],
   "source": [
    "sns.distplot(data_df_out['cc_count_may'])"
   ]
  },
  {
   "cell_type": "code",
   "execution_count": 50,
   "metadata": {},
   "outputs": [
    {
     "data": {
      "text/plain": [
       "<matplotlib.axes._subplots.AxesSubplot at 0x226d17e9c08>"
      ]
     },
     "execution_count": 50,
     "metadata": {},
     "output_type": "execute_result"
    },
    {
     "data": {
      "image/png": "[encoded data removed]",
      "text/plain": [
       "<Figure size 432x288 with 1 Axes>"
      ]
     },
     "metadata": {
      "needs_background": "light"
     },
     "output_type": "display_data"
    }
   ],
   "source": [
    "sns.distplot(data['cc_count_may'])"
   ]
  },
  {
   "cell_type": "code",
   "execution_count": 51,
   "metadata": {},
   "outputs": [
    {
     "data": {
      "text/plain": [
       "<matplotlib.axes._subplots.AxesSubplot at 0x226d18b2a48>"
      ]
     },
     "execution_count": 51,
     "metadata": {},
     "output_type": "execute_result"
    },
    {
     "data": {
      "image/png": "[encoded data removed]",
      "text/plain": [
       "<Figure size 432x288 with 1 Axes>"
      ]
     },
     "metadata": {
      "needs_background": "light"
     },
     "output_type": "display_data"
    }
   ],
   "source": [
    "sns.distplot(data_df_out['cc_count_jun'])"
   ]
  },
  {
   "cell_type": "code",
   "execution_count": 52,
   "metadata": {},
   "outputs": [
    {
     "data": {
      "text/plain": [
       "<matplotlib.axes._subplots.AxesSubplot at 0x226d1962b08>"
      ]
     },
     "execution_count": 52,
     "metadata": {},
     "output_type": "execute_result"
    },
    {
     "data": {
      "image/png": "[encoded data removed]",
      "text/plain": [
       "<Figure size 432x288 with 1 Axes>"
      ]
     },
     "metadata": {
      "needs_background": "light"
     },
     "output_type": "display_data"
    }
   ],
   "source": [
    "sns.distplot(data['cc_count_jun'])"
   ]
  },
  {
   "cell_type": "code",
   "execution_count": 53,
   "metadata": {},
   "outputs": [
    {
     "data": {
      "text/plain": [
       "<matplotlib.axes._subplots.AxesSubplot at 0x226d1a78808>"
      ]
     },
     "execution_count": 53,
     "metadata": {},
     "output_type": "execute_result"
    },
    {
     "data": {
      "image/png": "[encoded data removed]",
      "text/plain": [
       "<Figure size 432x288 with 1 Axes>"
      ]
     },
     "metadata": {
      "needs_background": "light"
     },
     "output_type": "display_data"
    }
   ],
   "source": [
    "sns.distplot(data_df_out['dc_count_apr'])"
   ]
  },
  {
   "cell_type": "code",
   "execution_count": 54,
   "metadata": {},
   "outputs": [
    {
     "data": {
      "text/plain": [
       "<matplotlib.axes._subplots.AxesSubplot at 0x226d1a3ad88>"
      ]
     },
     "execution_count": 54,
     "metadata": {},
     "output_type": "execute_result"
    },
    {
     "data": {
      "image/png": "[encoded data removed]",
      "text/plain": [
       "<Figure size 432x288 with 1 Axes>"
      ]
     },
     "metadata": {
      "needs_background": "light"
     },
     "output_type": "display_data"
    }
   ],
   "source": [
    "sns.distplot(data['dc_count_apr'])"
   ]
  },
  {
   "cell_type": "code",
   "execution_count": 55,
   "metadata": {},
   "outputs": [
    {
     "data": {
      "text/plain": [
       "<matplotlib.axes._subplots.AxesSubplot at 0x226d243da08>"
      ]
     },
     "execution_count": 55,
     "metadata": {},
     "output_type": "execute_result"
    },
    {
     "data": {
      "image/png": "[encoded data removed]",
      "text/plain": [
       "<Figure size 432x288 with 1 Axes>"
      ]
     },
     "metadata": {
      "needs_background": "light"
     },
     "output_type": "display_data"
    }
   ],
   "source": [
    "sns.distplot(data_df_out['dc_count_may'])"
   ]
  },
  {
   "cell_type": "code",
   "execution_count": 56,
   "metadata": {},
   "outputs": [
    {
     "data": {
      "text/plain": [
       "<matplotlib.axes._subplots.AxesSubplot at 0x226d25049c8>"
      ]
     },
     "execution_count": 56,
     "metadata": {},
     "output_type": "execute_result"
    },
    {
     "data": {
      "image/png": "[encoded data removed]",
      "text/plain": [
       "<Figure size 432x288 with 1 Axes>"
      ]
     },
     "metadata": {
      "needs_background": "light"
     },
     "output_type": "display_data"
    }
   ],
   "source": [
    "sns.distplot(data['dc_count_may'])"
   ]
  },
  {
   "cell_type": "code",
   "execution_count": 57,
   "metadata": {},
   "outputs": [
    {
     "data": {
      "text/plain": [
       "<matplotlib.axes._subplots.AxesSubplot at 0x226d361d508>"
      ]
     },
     "execution_count": 57,
     "metadata": {},
     "output_type": "execute_result"
    },
    {
     "data": {
      "image/png": "[encoded data removed]",
      "text/plain": [
       "<Figure size 432x288 with 1 Axes>"
      ]
     },
     "metadata": {
      "needs_background": "light"
     },
     "output_type": "display_data"
    }
   ],
   "source": [
    "sns.distplot(data_df_out['dc_count_jun'])"
   ]
  },
  {
   "cell_type": "code",
   "execution_count": 58,
   "metadata": {},
   "outputs": [
    {
     "data": {
      "text/plain": [
       "<matplotlib.axes._subplots.AxesSubplot at 0x226d36f6dc8>"
      ]
     },
     "execution_count": 58,
     "metadata": {},
     "output_type": "execute_result"
    },
    {
     "data": {
      "image/png": "[encoded data removed]",
      "text/plain": [
       "<Figure size 432x288 with 1 Axes>"
      ]
     },
     "metadata": {
      "needs_background": "light"
     },
     "output_type": "display_data"
    }
   ],
   "source": [
    "sns.distplot(data['dc_count_jun'])"
   ]
  },
  {
   "cell_type": "code",
   "execution_count": 59,
   "metadata": {},
   "outputs": [
    {
     "data": {
      "text/plain": [
       "<matplotlib.axes._subplots.AxesSubplot at 0x226d37f2e48>"
      ]
     },
     "execution_count": 59,
     "metadata": {},
     "output_type": "execute_result"
    },
    {
     "data": {
      "image/png": "[encoded data removed]",
      "text/plain": [
       "<Figure size 432x288 with 1 Axes>"
      ]
     },
     "metadata": {
      "needs_background": "light"
     },
     "output_type": "display_data"
    }
   ],
   "source": [
    "sns.distplot(data_df_out['debit_count_apr'])"
   ]
  },
  {
   "cell_type": "code",
   "execution_count": 60,
   "metadata": {},
   "outputs": [
    {
     "data": {
      "text/plain": [
       "<matplotlib.axes._subplots.AxesSubplot at 0x226d389ba48>"
      ]
     },
     "execution_count": 60,
     "metadata": {},
     "output_type": "execute_result"
    },
    {
     "data": {
      "image/png": "[encoded data removed]",
      "text/plain": [
       "<Figure size 432x288 with 1 Axes>"
      ]
     },
     "metadata": {
      "needs_background": "light"
     },
     "output_type": "display_data"
    }
   ],
   "source": [
    "sns.distplot(data['debit_count_apr'])"
   ]
  },
  {
   "cell_type": "code",
   "execution_count": 61,
   "metadata": {},
   "outputs": [
    {
     "data": {
      "text/plain": [
       "<matplotlib.axes._subplots.AxesSubplot at 0x226d3979508>"
      ]
     },
     "execution_count": 61,
     "metadata": {},
     "output_type": "execute_result"
    },
    {
     "data": {
      "image/png": "[encoded data removed]",
      "text/plain": [
       "<Figure size 432x288 with 1 Axes>"
      ]
     },
     "metadata": {
      "needs_background": "light"
     },
     "output_type": "display_data"
    }
   ],
   "source": [
    "sns.distplot(data_df_out['debit_count_may'])"
   ]
  },
  {
   "cell_type": "code",
   "execution_count": 62,
   "metadata": {},
   "outputs": [
    {
     "data": {
      "text/plain": [
       "<matplotlib.axes._subplots.AxesSubplot at 0x226d3a3b888>"
      ]
     },
     "execution_count": 62,
     "metadata": {},
     "output_type": "execute_result"
    },
    {
     "data": {
      "image/png": "[encoded data removed]",
      "text/plain": [
       "<Figure size 432x288 with 1 Axes>"
      ]
     },
     "metadata": {
      "needs_background": "light"
     },
     "output_type": "display_data"
    }
   ],
   "source": [
    "sns.distplot(data['debit_count_may'])"
   ]
  },
  {
   "cell_type": "code",
   "execution_count": 63,
   "metadata": {},
   "outputs": [
    {
     "data": {
      "text/plain": [
       "<matplotlib.axes._subplots.AxesSubplot at 0x226d3b34f08>"
      ]
     },
     "execution_count": 63,
     "metadata": {},
     "output_type": "execute_result"
    },
    {
     "data": {
      "image/png": "[encoded data removed]",
      "text/plain": [
       "<Figure size 432x288 with 1 Axes>"
      ]
     },
     "metadata": {
      "needs_background": "light"
     },
     "output_type": "display_data"
    }
   ],
   "source": [
    "sns.distplot(data_df_out['debit_count_jun'])"
   ]
  },
  {
   "cell_type": "code",
   "execution_count": 64,
   "metadata": {},
   "outputs": [
    {
     "data": {
      "text/plain": [
       "<matplotlib.axes._subplots.AxesSubplot at 0x226d3beb4c8>"
      ]
     },
     "execution_count": 64,
     "metadata": {},
     "output_type": "execute_result"
    },
    {
     "data": {
      "image/png": "[encoded data removed]",
      "text/plain": [
       "<Figure size 432x288 with 1 Axes>"
      ]
     },
     "metadata": {
      "needs_background": "light"
     },
     "output_type": "display_data"
    }
   ],
   "source": [
    "sns.distplot(data['debit_count_jun'])"
   ]
  },
  {
   "cell_type": "code",
   "execution_count": 65,
   "metadata": {},
   "outputs": [
    {
     "data": {
      "text/plain": [
       "<matplotlib.axes._subplots.AxesSubplot at 0x226d3cf3a48>"
      ]
     },
     "execution_count": 65,
     "metadata": {},
     "output_type": "execute_result"
    },
    {
     "data": {
      "image/png": "[encoded data removed]",
      "text/plain": [
       "<Figure size 432x288 with 1 Axes>"
      ]
     },
     "metadata": {
      "needs_background": "light"
     },
     "output_type": "display_data"
    }
   ],
   "source": [
    "sns.distplot(data_df_out['credit_count_apr'])"
   ]
  },
  {
   "cell_type": "code",
   "execution_count": 66,
   "metadata": {},
   "outputs": [
    {
     "data": {
      "text/plain": [
       "<matplotlib.axes._subplots.AxesSubplot at 0x226d3d92108>"
      ]
     },
     "execution_count": 66,
     "metadata": {},
     "output_type": "execute_result"
    },
    {
     "data": {
      "image/png": "[encoded data removed]",
      "text/plain": [
       "<Figure size 432x288 with 1 Axes>"
      ]
     },
     "metadata": {
      "needs_background": "light"
     },
     "output_type": "display_data"
    }
   ],
   "source": [
    "sns.distplot(data['credit_count_apr'])"
   ]
  },
  {
   "cell_type": "code",
   "execution_count": 67,
   "metadata": {},
   "outputs": [
    {
     "data": {
      "text/plain": [
       "<matplotlib.axes._subplots.AxesSubplot at 0x226d3e8a948>"
      ]
     },
     "execution_count": 67,
     "metadata": {},
     "output_type": "execute_result"
    },
    {
     "data": {
      "image/png": "[encoded data removed]",
      "text/plain": [
       "<Figure size 432x288 with 1 Axes>"
      ]
     },
     "metadata": {
      "needs_background": "light"
     },
     "output_type": "display_data"
    }
   ],
   "source": [
    "sns.distplot(data_df_out['credit_count_may'])"
   ]
  },
  {
   "cell_type": "code",
   "execution_count": 68,
   "metadata": {},
   "outputs": [
    {
     "data": {
      "text/plain": [
       "<matplotlib.axes._subplots.AxesSubplot at 0x226ce6f7448>"
      ]
     },
     "execution_count": 68,
     "metadata": {},
     "output_type": "execute_result"
    },
    {
     "data": {
      "image/png": "[encoded data removed]",
      "text/plain": [
       "<Figure size 432x288 with 1 Axes>"
      ]
     },
     "metadata": {
      "needs_background": "light"
     },
     "output_type": "display_data"
    }
   ],
   "source": [
    "sns.distplot(data['credit_count_may'])"
   ]
  },
  {
   "cell_type": "code",
   "execution_count": 69,
   "metadata": {},
   "outputs": [
    {
     "data": {
      "text/plain": [
       "<matplotlib.axes._subplots.AxesSubplot at 0x226d3fea948>"
      ]
     },
     "execution_count": 69,
     "metadata": {},
     "output_type": "execute_result"
    },
    {
     "data": {
      "image/png": "[encoded data removed]",
      "text/plain": [
       "<Figure size 432x288 with 1 Axes>"
      ]
     },
     "metadata": {
      "needs_background": "light"
     },
     "output_type": "display_data"
    }
   ],
   "source": [
    "sns.distplot(data_df_out['credit_count_jun'])"
   ]
  },
  {
   "cell_type": "code",
   "execution_count": 70,
   "metadata": {},
   "outputs": [
    {
     "data": {
      "text/plain": [
       "<matplotlib.axes._subplots.AxesSubplot at 0x226d4070b88>"
      ]
     },
     "execution_count": 70,
     "metadata": {},
     "output_type": "execute_result"
    },
    {
     "data": {
      "image/png": "[encoded data removed]",
      "text/plain": [
       "<Figure size 432x288 with 1 Axes>"
      ]
     },
     "metadata": {
      "needs_background": "light"
     },
     "output_type": "display_data"
    }
   ],
   "source": [
    "sns.distplot(data['credit_count_jun'])"
   ]
  },
  {
   "cell_type": "markdown",
   "metadata": {},
   "source": [
    "# RandomForest"
   ]
  },
  {
   "cell_type": "code",
   "execution_count": 71,
   "metadata": {},
   "outputs": [],
   "source": [
    "import pandas as pd\n",
    "import numpy as np\n",
    "from sklearn.ensemble import RandomForestRegressor\n",
    "from sklearn.model_selection import StratifiedKFold, GridSearchCV\n",
    "import xgboost as xgb\n",
    "import matplotlib.pyplot as plt"
   ]
  },
  {
   "cell_type": "code",
   "execution_count": 72,
   "metadata": {},
   "outputs": [],
   "source": [
    "X, y = data_df_out.drop('cc_cons',axis = 1), data_df_out['cc_cons']"
   ]
  },
  {
   "cell_type": "code",
   "execution_count": 73,
   "metadata": {},
   "outputs": [
    {
     "name": "stdout",
     "output_type": "stream",
     "text": [
      "9         5772.0\n",
      "12        6961.0\n",
      "19       13572.0\n",
      "29       18015.0\n",
      "79        4022.0\n",
      "          ...   \n",
      "14939     6247.0\n",
      "14957     7571.0\n",
      "14971    19761.0\n",
      "14981    14938.0\n",
      "14986    15363.0\n",
      "Name: cc_cons, Length: 845, dtype: float64\n"
     ]
    }
   ],
   "source": [
    "print(y)"
   ]
  },
  {
   "cell_type": "code",
   "execution_count": 74,
   "metadata": {},
   "outputs": [],
   "source": [
    "y = np.log1p(y)"
   ]
  },
  {
   "cell_type": "code",
   "execution_count": 75,
   "metadata": {},
   "outputs": [],
   "source": [
    "from sklearn.model_selection import train_test_split"
   ]
  },
  {
   "cell_type": "code",
   "execution_count": 76,
   "metadata": {},
   "outputs": [],
   "source": [
    "X_train, X_test, y_train, y_test = train_test_split(X,y, test_size = 0.3,\n",
    "                                                          random_state = 17)"
   ]
  },
  {
   "cell_type": "raw",
   "metadata": {},
   "source": [
    "X_train['Class'] = y_train\n",
    "t_corr = X_train.corr()"
   ]
  },
  {
   "cell_type": "raw",
   "metadata": {},
   "source": [
    "t_corr = t_corr['Class']\n",
    "\n",
    "print(t_corr)\n",
    "\n",
    "corr_columns = t_corr[abs(t_corr)>0.01].index\n",
    "print(corr_columns)\n",
    "print(type(corr_columns))"
   ]
  },
  {
   "cell_type": "raw",
   "metadata": {},
   "source": [
    "corr_columns = corr_columns.drop('Class')\n",
    "\n",
    "X_train = X_train[corr_columns]\n",
    "X_test = X_test[corr_columns]"
   ]
  },
  {
   "cell_type": "code",
   "execution_count": 77,
   "metadata": {},
   "outputs": [],
   "source": [
    "param_grid = {\n",
    "    'bootstrap': [True],\n",
    "    'max_depth': [80, 90, 100, 110],\n",
    "    'max_features': [2, 3],\n",
    "    'min_samples_leaf': [3, 4, 5],\n",
    "    'min_samples_split': [8, 10, 12],\n",
    "    'n_estimators': [100, 200, 300, 1000]\n",
    "}\n",
    "# Create a based model\n",
    "rf = RandomForestRegressor()\n",
    "# Instantiate the grid search model\n",
    "grid_search = GridSearchCV(estimator = rf, param_grid = param_grid, \n",
    "                          cv = 3, n_jobs = -1, verbose = 2)"
   ]
  },
  {
   "cell_type": "code",
   "execution_count": 78,
   "metadata": {},
   "outputs": [
    {
     "name": "stdout",
     "output_type": "stream",
     "text": [
      "Fitting 3 folds for each of 288 candidates, totalling 864 fits\n"
     ]
    },
    {
     "name": "stderr",
     "output_type": "stream",
     "text": [
      "[Parallel(n_jobs=-1)]: Using backend LokyBackend with 8 concurrent workers.\n",
      "[Parallel(n_jobs=-1)]: Done  25 tasks      | elapsed:    6.4s\n",
      "[Parallel(n_jobs=-1)]: Done 146 tasks      | elapsed:   18.2s\n",
      "[Parallel(n_jobs=-1)]: Done 349 tasks      | elapsed:   41.9s\n",
      "[Parallel(n_jobs=-1)]: Done 632 tasks      | elapsed:  1.3min\n",
      "[Parallel(n_jobs=-1)]: Done 864 out of 864 | elapsed:  1.7min finished\n"
     ]
    },
    {
     "data": {
      "text/plain": [
       "GridSearchCV(cv=3, error_score='raise-deprecating',\n",
       "             estimator=RandomForestRegressor(bootstrap=True, criterion='mse',\n",
       "                                             max_depth=None,\n",
       "                                             max_features='auto',\n",
       "                                             max_leaf_nodes=None,\n",
       "                                             min_impurity_decrease=0.0,\n",
       "                                             min_impurity_split=None,\n",
       "                                             min_samples_leaf=1,\n",
       "                                             min_samples_split=2,\n",
       "                                             min_weight_fraction_leaf=0.0,\n",
       "                                             n_estimators='warn', n_jobs=None,\n",
       "                                             oob_score=False, random_state=None,\n",
       "                                             verbose=0, warm_start=False),\n",
       "             iid='warn', n_jobs=-1,\n",
       "             param_grid={'bootstrap': [True], 'max_depth': [80, 90, 100, 110],\n",
       "                         'max_features': [2, 3], 'min_samples_leaf': [3, 4, 5],\n",
       "                         'min_samples_split': [8, 10, 12],\n",
       "                         'n_estimators': [100, 200, 300, 1000]},\n",
       "             pre_dispatch='2*n_jobs', refit=True, return_train_score=False,\n",
       "             scoring=None, verbose=2)"
      ]
     },
     "execution_count": 78,
     "metadata": {},
     "output_type": "execute_result"
    }
   ],
   "source": [
    "grid_search.fit(X_train, y_train)"
   ]
  },
  {
   "cell_type": "code",
   "execution_count": 79,
   "metadata": {},
   "outputs": [],
   "source": [
    "best_grid = grid_search.best_estimator_"
   ]
  },
  {
   "cell_type": "code",
   "execution_count": 80,
   "metadata": {},
   "outputs": [
    {
     "data": {
      "text/plain": [
       "RandomForestRegressor(bootstrap=True, criterion='mse', max_depth=80,\n",
       "                      max_features=2, max_leaf_nodes=None,\n",
       "                      min_impurity_decrease=0.0, min_impurity_split=None,\n",
       "                      min_samples_leaf=5, min_samples_split=12,\n",
       "                      min_weight_fraction_leaf=0.0, n_estimators=100,\n",
       "                      n_jobs=None, oob_score=False, random_state=None,\n",
       "                      verbose=0, warm_start=False)"
      ]
     },
     "execution_count": 80,
     "metadata": {},
     "output_type": "execute_result"
    }
   ],
   "source": [
    "best_grid.fit(X_train, y_train)"
   ]
  },
  {
   "cell_type": "code",
   "execution_count": 81,
   "metadata": {},
   "outputs": [],
   "source": [
    "preds = best_grid.predict(X_test)"
   ]
  },
  {
   "cell_type": "code",
   "execution_count": 82,
   "metadata": {},
   "outputs": [],
   "source": [
    "preds = np.expm1(preds)"
   ]
  },
  {
   "cell_type": "code",
   "execution_count": 83,
   "metadata": {},
   "outputs": [],
   "source": [
    "from sklearn import metrics"
   ]
  },
  {
   "cell_type": "code",
   "execution_count": 84,
   "metadata": {},
   "outputs": [
    {
     "name": "stdout",
     "output_type": "stream",
     "text": [
      "Mean Absolute Error: 7686.90979690587\n",
      "Mean Squared Error: 60058190.28104033\n",
      "Root Mean Squared Error: 7749.721948627598\n"
     ]
    }
   ],
   "source": [
    "print('Mean Absolute Error:', metrics.mean_absolute_error(y_test, preds))\n",
    "print('Mean Squared Error:', metrics.mean_squared_error(y_test, preds))\n",
    "print('Root Mean Squared Error:', np.sqrt(metrics.mean_squared_error(y_test,preds)))"
   ]
  },
  {
   "cell_type": "markdown",
   "metadata": {},
   "source": [
    "# Xgboost"
   ]
  },
  {
   "cell_type": "code",
   "execution_count": 85,
   "metadata": {},
   "outputs": [],
   "source": [
    "xg_reg = xgb.XGBRegressor(objective= \"reg:linear\",\n",
    "                          max_depth = 5,\n",
    "                         n_estimators=10,\n",
    "                        seed = 123)"
   ]
  },
  {
   "cell_type": "code",
   "execution_count": 86,
   "metadata": {},
   "outputs": [
    {
     "name": "stdout",
     "output_type": "stream",
     "text": [
      "[13:13:55] WARNING: src/objective/regression_obj.cu:152: reg:linear is now deprecated in favor of reg:squarederror.\n"
     ]
    },
    {
     "name": "stderr",
     "output_type": "stream",
     "text": [
      "C:\\Users\\rkbis\\Anaconda3\\lib\\site-packages\\xgboost\\core.py:587: FutureWarning: Series.base is deprecated and will be removed in a future version\n",
      "  if getattr(data, 'base', None) is not None and \\\n"
     ]
    },
    {
     "data": {
      "text/plain": [
       "XGBRegressor(base_score=0.5, booster='gbtree', colsample_bylevel=1,\n",
       "             colsample_bynode=1, colsample_bytree=1, gamma=0,\n",
       "             importance_type='gain', learning_rate=0.1, max_delta_step=0,\n",
       "             max_depth=5, min_child_weight=1, missing=None, n_estimators=10,\n",
       "             n_jobs=1, nthread=None, objective='reg:linear', random_state=0,\n",
       "             reg_alpha=0, reg_lambda=1, scale_pos_weight=1, seed=123,\n",
       "             silent=None, subsample=1, verbosity=1)"
      ]
     },
     "execution_count": 86,
     "metadata": {},
     "output_type": "execute_result"
    }
   ],
   "source": [
    "xg_reg.fit(X_train, y_train)"
   ]
  },
  {
   "cell_type": "code",
   "execution_count": 87,
   "metadata": {},
   "outputs": [],
   "source": [
    "preds_xg = xg_reg.predict(X_test)"
   ]
  },
  {
   "cell_type": "code",
   "execution_count": 88,
   "metadata": {},
   "outputs": [],
   "source": [
    "preds_xg = np.expm1(preds_xg)"
   ]
  },
  {
   "cell_type": "code",
   "execution_count": 89,
   "metadata": {},
   "outputs": [
    {
     "name": "stdout",
     "output_type": "stream",
     "text": [
      "Mean Absolute Error: 399.11744163924993\n",
      "Mean Squared Error: 160733.77660571167\n",
      "Root Mean Squared Error: 400.91617154426643\n"
     ]
    }
   ],
   "source": [
    "print('Mean Absolute Error:', metrics.mean_absolute_error(y_test, preds_xg))\n",
    "print('Mean Squared Error:', metrics.mean_squared_error(y_test, preds_xg))\n",
    "print('Root Mean Squared Error:', np.sqrt(metrics.mean_squared_error(y_test,preds_xg)))"
   ]
  },
  {
   "cell_type": "markdown",
   "metadata": {},
   "source": [
    "# Lasso Regression"
   ]
  },
  {
   "cell_type": "code",
   "execution_count": 90,
   "metadata": {},
   "outputs": [],
   "source": [
    "from sklearn.linear_model import Lasso\n",
    "from sklearn.metrics import mean_squared_error"
   ]
  },
  {
   "cell_type": "code",
   "execution_count": 91,
   "metadata": {},
   "outputs": [],
   "source": [
    "# instantiate lasso model\n",
    "lasso = Lasso()\n",
    "\n",
    "# fit and predict\n",
    "lasso.fit(X_train, y_train)\n",
    "preds_lasso = lasso.predict(X_test)\n",
    "preds_lasso = np.expm1(preds_lasso)\n"
   ]
  },
  {
   "cell_type": "code",
   "execution_count": 92,
   "metadata": {},
   "outputs": [
    {
     "name": "stdout",
     "output_type": "stream",
     "text": [
      "Mean Absolute Error: 7809.189781746265\n",
      "Mean Squared Error: 62793675.607598975\n",
      "Root Mean Squared Error: 7924.246059253775\n"
     ]
    }
   ],
   "source": [
    "print('Mean Absolute Error:', metrics.mean_absolute_error(y_test, preds_lasso))\n",
    "print('Mean Squared Error:', metrics.mean_squared_error(y_test, preds_lasso))\n",
    "print('Root Mean Squared Error:', np.sqrt(metrics.mean_squared_error(y_test,preds_lasso)))"
   ]
  },
  {
   "cell_type": "markdown",
   "metadata": {},
   "source": [
    "# Linear Regression "
   ]
  },
  {
   "cell_type": "code",
   "execution_count": 93,
   "metadata": {},
   "outputs": [],
   "source": [
    "from sklearn.linear_model import LinearRegression\n",
    "lr = LinearRegression()"
   ]
  },
  {
   "cell_type": "code",
   "execution_count": 94,
   "metadata": {},
   "outputs": [
    {
     "data": {
      "text/plain": [
       "LinearRegression(copy_X=True, fit_intercept=True, n_jobs=None, normalize=False)"
      ]
     },
     "execution_count": 94,
     "metadata": {},
     "output_type": "execute_result"
    }
   ],
   "source": [
    "lr.fit(X_train,y_train)"
   ]
  },
  {
   "cell_type": "code",
   "execution_count": 95,
   "metadata": {},
   "outputs": [],
   "source": [
    "preds_lr= lr.predict(X_test)\n",
    "preds_lr = np.expm1(preds_lr)"
   ]
  },
  {
   "cell_type": "code",
   "execution_count": 96,
   "metadata": {},
   "outputs": [
    {
     "name": "stdout",
     "output_type": "stream",
     "text": [
      "Mean Absolute Error: 7937.991402623071\n",
      "Mean Squared Error: 68232644.70812313\n",
      "Root Mean Squared Error: 8260.305364096605\n"
     ]
    }
   ],
   "source": [
    "print('Mean Absolute Error:', metrics.mean_absolute_error(y_test, preds_lr))\n",
    "print('Mean Squared Error:', metrics.mean_squared_error(y_test, preds_lr))\n",
    "print('Root Mean Squared Error:', np.sqrt(metrics.mean_squared_error(y_test,preds_lr)))"
   ]
  },
  {
   "cell_type": "markdown",
   "metadata": {},
   "source": [
    "# Predicting Test Data"
   ]
  },
  {
   "cell_type": "code",
   "execution_count": 97,
   "metadata": {},
   "outputs": [],
   "source": [
    "test = pd.read_csv('Test_new.csv')"
   ]
  },
  {
   "cell_type": "code",
   "execution_count": 98,
   "metadata": {},
   "outputs": [
    {
     "data": {
      "text/plain": [
       "Index(['Unnamed: 0', 'ID', 'account_type', 'gender', 'age', 'region_code',\n",
       "       'dc_cons_apr', 'dc_cons_may', 'dc_cons_jun', 'cc_count_apr',\n",
       "       'cc_count_may', 'cc_count_jun', 'dc_count_apr', 'dc_count_may',\n",
       "       'dc_count_jun', 'card_lim', 'personal_loan_active',\n",
       "       'vehicle_loan_active', 'personal_loan_closed', 'vehicle_loan_closed',\n",
       "       'debit_amount_apr', 'credit_amount_apr', 'debit_count_apr',\n",
       "       'credit_count_apr', 'max_credit_amount_apr', 'debit_amount_may',\n",
       "       'credit_amount_may', 'credit_count_may', 'debit_count_may',\n",
       "       'max_credit_amount_may', 'debit_amount_jun', 'credit_amount_jun',\n",
       "       'credit_count_jun', 'debit_count_jun', 'max_credit_amount_jun',\n",
       "       'dc_cons_sum', 'cc_count_sum', 'dc_count_sum', 'dc_cons_avg',\n",
       "       'dc_cons_apr_avg', 'dc_cons_may_avg', 'dc_cons_jun_avg',\n",
       "       'credit_amount_sum', 'debit_amount_sum', 'credit_count_sum',\n",
       "       'debit_count_sum', 'credit_amount_avg', 'debit_amount_avg',\n",
       "       'credit_amount_apr_avg', 'credit_amount_may_avg',\n",
       "       'credit_amount_jun_avg', 'debit_amount_apr_avg', 'debit_amount_may_avg',\n",
       "       'debit_amount_jun_avg', 'perc_credit_amount_apr',\n",
       "       'perc_credit_amount_may', 'perc_credit_amount_jun', 'dc_cons_apr_prop',\n",
       "       'dc_cons_may_prop', 'dc_cons_jun_prop', 'credit_amount_apr_prop',\n",
       "       'credit_amount_may_prop', 'credit_amount_jun_prop',\n",
       "       'debit_amount_apr_prop', 'debit_amount_may_prop',\n",
       "       'debit_amount_jun_prop', 'debit_by_credit_amount_ratio_apr',\n",
       "       'debit_by_credit_amount_ratio_may', 'debit_by_credit_amount_ratio_jun'],\n",
       "      dtype='object')"
      ]
     },
     "execution_count": 98,
     "metadata": {},
     "output_type": "execute_result"
    }
   ],
   "source": [
    "test.columns"
   ]
  },
  {
   "cell_type": "code",
   "execution_count": 100,
   "metadata": {},
   "outputs": [
    {
     "data": {
      "text/plain": [
       "0       17591\n",
       "1       13541\n",
       "2       13431\n",
       "3        8687\n",
       "4       14727\n",
       "        ...  \n",
       "4995    12512\n",
       "4996    14224\n",
       "4997    18740\n",
       "4998    18134\n",
       "4999    12413\n",
       "Name: ID, Length: 5000, dtype: int64"
      ]
     },
     "execution_count": 100,
     "metadata": {},
     "output_type": "execute_result"
    }
   ],
   "source": [
    "test.pop('Unnamed: 0')\n",
    "test.pop('ID')"
   ]
  },
  {
   "cell_type": "code",
   "execution_count": 101,
   "metadata": {},
   "outputs": [
    {
     "name": "stdout",
     "output_type": "stream",
     "text": [
      "<class 'pandas.core.frame.DataFrame'>\n",
      "Int64Index: 254 entries, 13558 to 117\n",
      "Data columns (total 67 columns):\n",
      "account_type                        254 non-null int64\n",
      "gender                              254 non-null int64\n",
      "age                                 254 non-null int64\n",
      "region_code                         254 non-null float64\n",
      "dc_cons_apr                         254 non-null float64\n",
      "dc_cons_may                         254 non-null float64\n",
      "dc_cons_jun                         254 non-null float64\n",
      "cc_count_apr                        254 non-null int64\n",
      "cc_count_may                        254 non-null int64\n",
      "cc_count_jun                        254 non-null int64\n",
      "dc_count_apr                        254 non-null int64\n",
      "dc_count_may                        254 non-null int64\n",
      "dc_count_jun                        254 non-null int64\n",
      "card_lim                            254 non-null float64\n",
      "personal_loan_active                254 non-null int64\n",
      "vehicle_loan_active                 254 non-null int64\n",
      "personal_loan_closed                254 non-null int64\n",
      "vehicle_loan_closed                 254 non-null int64\n",
      "debit_amount_apr                    254 non-null float64\n",
      "credit_amount_apr                   254 non-null float64\n",
      "debit_count_apr                     254 non-null int64\n",
      "credit_count_apr                    254 non-null int64\n",
      "max_credit_amount_apr               254 non-null float64\n",
      "debit_amount_may                    254 non-null float64\n",
      "credit_amount_may                   254 non-null float64\n",
      "credit_count_may                    254 non-null int64\n",
      "debit_count_may                     254 non-null int64\n",
      "max_credit_amount_may               254 non-null float64\n",
      "debit_amount_jun                    254 non-null float64\n",
      "credit_amount_jun                   254 non-null float64\n",
      "credit_count_jun                    254 non-null int64\n",
      "debit_count_jun                     254 non-null int64\n",
      "max_credit_amount_jun               254 non-null float64\n",
      "dc_cons_sum                         254 non-null float64\n",
      "cc_count_sum                        254 non-null int64\n",
      "dc_count_sum                        254 non-null int64\n",
      "dc_cons_avg                         254 non-null float64\n",
      "dc_cons_apr_avg                     254 non-null float64\n",
      "dc_cons_may_avg                     254 non-null float64\n",
      "dc_cons_jun_avg                     254 non-null float64\n",
      "credit_amount_sum                   254 non-null float64\n",
      "debit_amount_sum                    254 non-null float64\n",
      "credit_count_sum                    254 non-null int64\n",
      "debit_count_sum                     254 non-null int64\n",
      "credit_amount_avg                   254 non-null float64\n",
      "debit_amount_avg                    254 non-null float64\n",
      "credit_amount_apr_avg               254 non-null float64\n",
      "credit_amount_may_avg               254 non-null float64\n",
      "credit_amount_jun_avg               254 non-null float64\n",
      "debit_amount_apr_avg                254 non-null float64\n",
      "debit_amount_may_avg                254 non-null float64\n",
      "debit_amount_jun_avg                254 non-null float64\n",
      "perc_credit_amount_apr              254 non-null float64\n",
      "perc_credit_amount_may              254 non-null float64\n",
      "perc_credit_amount_jun              254 non-null float64\n",
      "dc_cons_apr_prop                    254 non-null float64\n",
      "dc_cons_may_prop                    254 non-null float64\n",
      "dc_cons_jun_prop                    254 non-null float64\n",
      "credit_amount_apr_prop              254 non-null float64\n",
      "credit_amount_may_prop              254 non-null float64\n",
      "credit_amount_jun_prop              254 non-null float64\n",
      "debit_amount_apr_prop               254 non-null float64\n",
      "debit_amount_may_prop               254 non-null float64\n",
      "debit_amount_jun_prop               254 non-null float64\n",
      "debit_by_credit_amount_ratio_apr    254 non-null float64\n",
      "debit_by_credit_amount_ratio_may    254 non-null float64\n",
      "debit_by_credit_amount_ratio_jun    254 non-null float64\n",
      "dtypes: float64(44), int64(23)\n",
      "memory usage: 134.9 KB\n"
     ]
    }
   ],
   "source": [
    "X_test.info()"
   ]
  },
  {
   "cell_type": "code",
   "execution_count": 102,
   "metadata": {},
   "outputs": [
    {
     "data": {
      "text/plain": [
       "(5000, 67)"
      ]
     },
     "execution_count": 102,
     "metadata": {},
     "output_type": "execute_result"
    }
   ],
   "source": [
    "test.shape"
   ]
  },
  {
   "cell_type": "code",
   "execution_count": 103,
   "metadata": {},
   "outputs": [],
   "source": [
    "# Lasso Prediction\n",
    "preds_lasso_test = lasso.predict(test)"
   ]
  },
  {
   "cell_type": "code",
   "execution_count": 104,
   "metadata": {},
   "outputs": [],
   "source": [
    "# Linear Prediction\n",
    "preds_lr_test = lr.predict(test)"
   ]
  },
  {
   "cell_type": "code",
   "execution_count": 105,
   "metadata": {},
   "outputs": [],
   "source": [
    "# Random Forest Prediction\n",
    "preds_test = best_grid.predict(test)"
   ]
  },
  {
   "cell_type": "code",
   "execution_count": 115,
   "metadata": {},
   "outputs": [],
   "source": [
    "# Xgboot Prediction\n",
    "preds_xg_test = xg_reg.predict(test)\n",
    "preds_xg_test= np.expm1(preds_xg_test)"
   ]
  },
  {
   "cell_type": "code",
   "execution_count": 116,
   "metadata": {},
   "outputs": [],
   "source": [
    "submisssion1_xg= pd.read_csv('sample_submission.csv')"
   ]
  },
  {
   "cell_type": "code",
   "execution_count": 117,
   "metadata": {},
   "outputs": [
    {
     "data": {
      "text/plain": [
       "0       1\n",
       "1       1\n",
       "2       1\n",
       "3       1\n",
       "4       1\n",
       "       ..\n",
       "4995    1\n",
       "4996    1\n",
       "4997    1\n",
       "4998    1\n",
       "4999    1\n",
       "Name: cc_cons, Length: 5000, dtype: int64"
      ]
     },
     "execution_count": 117,
     "metadata": {},
     "output_type": "execute_result"
    }
   ],
   "source": [
    "submisssion1_xg.pop('cc_cons')"
   ]
  },
  {
   "cell_type": "code",
   "execution_count": 118,
   "metadata": {},
   "outputs": [],
   "source": [
    "submisssion1_xg['cc_cons'] = preds_xg_test"
   ]
  },
  {
   "cell_type": "code",
   "execution_count": 119,
   "metadata": {},
   "outputs": [
    {
     "data": {
      "text/plain": [
       "array([416.18958, 159.86537, 214.12436, ..., 416.18958, 416.18958,\n",
       "       416.18958], dtype=float32)"
      ]
     },
     "execution_count": 119,
     "metadata": {},
     "output_type": "execute_result"
    }
   ],
   "source": [
    "preds_xg_test"
   ]
  },
  {
   "cell_type": "code",
   "execution_count": 120,
   "metadata": {},
   "outputs": [
    {
     "data": {
      "text/html": [
       "<div>\n",
       "<style scoped>\n",
       "    .dataframe tbody tr th:only-of-type {\n",
       "        vertical-align: middle;\n",
       "    }\n",
       "\n",
       "    .dataframe tbody tr th {\n",
       "        vertical-align: top;\n",
       "    }\n",
       "\n",
       "    .dataframe thead th {\n",
       "        text-align: right;\n",
       "    }\n",
       "</style>\n",
       "<table border=\"1\" class=\"dataframe\">\n",
       "  <thead>\n",
       "    <tr style=\"text-align: right;\">\n",
       "      <th></th>\n",
       "      <th>ID</th>\n",
       "      <th>cc_cons</th>\n",
       "    </tr>\n",
       "  </thead>\n",
       "  <tbody>\n",
       "    <tr>\n",
       "      <td>0</td>\n",
       "      <td>17591</td>\n",
       "      <td>1</td>\n",
       "    </tr>\n",
       "    <tr>\n",
       "      <td>1</td>\n",
       "      <td>13541</td>\n",
       "      <td>1</td>\n",
       "    </tr>\n",
       "    <tr>\n",
       "      <td>2</td>\n",
       "      <td>13431</td>\n",
       "      <td>1</td>\n",
       "    </tr>\n",
       "    <tr>\n",
       "      <td>3</td>\n",
       "      <td>8687</td>\n",
       "      <td>1</td>\n",
       "    </tr>\n",
       "    <tr>\n",
       "      <td>4</td>\n",
       "      <td>14727</td>\n",
       "      <td>1</td>\n",
       "    </tr>\n",
       "  </tbody>\n",
       "</table>\n",
       "</div>"
      ],
      "text/plain": [
       "      ID  cc_cons\n",
       "0  17591        1\n",
       "1  13541        1\n",
       "2  13431        1\n",
       "3   8687        1\n",
       "4  14727        1"
      ]
     },
     "execution_count": 120,
     "metadata": {},
     "output_type": "execute_result"
    }
   ],
   "source": [
    "submisssion1_lasso.head()"
   ]
  },
  {
   "cell_type": "code",
   "execution_count": 122,
   "metadata": {},
   "outputs": [],
   "source": [
    "preds_test = np.expm1(preds_test)"
   ]
  },
  {
   "cell_type": "code",
   "execution_count": 124,
   "metadata": {},
   "outputs": [
    {
     "data": {
      "text/plain": [
       "array([9293.06157194, 6451.36759873, 8029.67600801, ..., 6709.68498293,\n",
       "       7783.10354114, 8014.69195093])"
      ]
     },
     "execution_count": 124,
     "metadata": {},
     "output_type": "execute_result"
    }
   ],
   "source": [
    "preds_test"
   ]
  },
  {
   "cell_type": "code",
   "execution_count": 128,
   "metadata": {},
   "outputs": [],
   "source": [
    "submisssion2_xg= pd.read_csv('sample_submission.csv')"
   ]
  },
  {
   "cell_type": "code",
   "execution_count": 130,
   "metadata": {},
   "outputs": [
    {
     "data": {
      "text/plain": [
       "0       1\n",
       "1       1\n",
       "2       1\n",
       "3       1\n",
       "4       1\n",
       "       ..\n",
       "4995    1\n",
       "4996    1\n",
       "4997    1\n",
       "4998    1\n",
       "4999    1\n",
       "Name: cc_cons, Length: 5000, dtype: int64"
      ]
     },
     "execution_count": 130,
     "metadata": {},
     "output_type": "execute_result"
    }
   ],
   "source": [
    "submisssion2_xg.pop('cc_cons')"
   ]
  },
  {
   "cell_type": "code",
   "execution_count": 131,
   "metadata": {},
   "outputs": [],
   "source": [
    "submisssion2_xg['cc_cons'] = preds_test"
   ]
  },
  {
   "cell_type": "code",
   "execution_count": 132,
   "metadata": {},
   "outputs": [
    {
     "data": {
      "text/html": [
       "<div>\n",
       "<style scoped>\n",
       "    .dataframe tbody tr th:only-of-type {\n",
       "        vertical-align: middle;\n",
       "    }\n",
       "\n",
       "    .dataframe tbody tr th {\n",
       "        vertical-align: top;\n",
       "    }\n",
       "\n",
       "    .dataframe thead th {\n",
       "        text-align: right;\n",
       "    }\n",
       "</style>\n",
       "<table border=\"1\" class=\"dataframe\">\n",
       "  <thead>\n",
       "    <tr style=\"text-align: right;\">\n",
       "      <th></th>\n",
       "      <th>ID</th>\n",
       "      <th>cc_cons</th>\n",
       "    </tr>\n",
       "  </thead>\n",
       "  <tbody>\n",
       "    <tr>\n",
       "      <td>0</td>\n",
       "      <td>17591</td>\n",
       "      <td>9293.061572</td>\n",
       "    </tr>\n",
       "    <tr>\n",
       "      <td>1</td>\n",
       "      <td>13541</td>\n",
       "      <td>6451.367599</td>\n",
       "    </tr>\n",
       "    <tr>\n",
       "      <td>2</td>\n",
       "      <td>13431</td>\n",
       "      <td>8029.676008</td>\n",
       "    </tr>\n",
       "    <tr>\n",
       "      <td>3</td>\n",
       "      <td>8687</td>\n",
       "      <td>9160.240623</td>\n",
       "    </tr>\n",
       "    <tr>\n",
       "      <td>4</td>\n",
       "      <td>14727</td>\n",
       "      <td>7505.331169</td>\n",
       "    </tr>\n",
       "  </tbody>\n",
       "</table>\n",
       "</div>"
      ],
      "text/plain": [
       "      ID      cc_cons\n",
       "0  17591  9293.061572\n",
       "1  13541  6451.367599\n",
       "2  13431  8029.676008\n",
       "3   8687  9160.240623\n",
       "4  14727  7505.331169"
      ]
     },
     "execution_count": 132,
     "metadata": {},
     "output_type": "execute_result"
    }
   ],
   "source": [
    "submisssion2_xg.head()"
   ]
  },
  {
   "cell_type": "code",
   "execution_count": 141,
   "metadata": {},
   "outputs": [
    {
     "data": {
      "text/html": [
       "<div>\n",
       "<style scoped>\n",
       "    .dataframe tbody tr th:only-of-type {\n",
       "        vertical-align: middle;\n",
       "    }\n",
       "\n",
       "    .dataframe tbody tr th {\n",
       "        vertical-align: top;\n",
       "    }\n",
       "\n",
       "    .dataframe thead th {\n",
       "        text-align: right;\n",
       "    }\n",
       "</style>\n",
       "<table border=\"1\" class=\"dataframe\">\n",
       "  <thead>\n",
       "    <tr style=\"text-align: right;\">\n",
       "      <th></th>\n",
       "      <th>cc_cons</th>\n",
       "    </tr>\n",
       "    <tr>\n",
       "      <th>ID</th>\n",
       "      <th></th>\n",
       "    </tr>\n",
       "  </thead>\n",
       "  <tbody>\n",
       "    <tr>\n",
       "      <td>17591</td>\n",
       "      <td>9293.061572</td>\n",
       "    </tr>\n",
       "    <tr>\n",
       "      <td>13541</td>\n",
       "      <td>6451.367599</td>\n",
       "    </tr>\n",
       "    <tr>\n",
       "      <td>13431</td>\n",
       "      <td>8029.676008</td>\n",
       "    </tr>\n",
       "    <tr>\n",
       "      <td>8687</td>\n",
       "      <td>9160.240623</td>\n",
       "    </tr>\n",
       "    <tr>\n",
       "      <td>14727</td>\n",
       "      <td>7505.331169</td>\n",
       "    </tr>\n",
       "    <tr>\n",
       "      <td>...</td>\n",
       "      <td>...</td>\n",
       "    </tr>\n",
       "    <tr>\n",
       "      <td>12512</td>\n",
       "      <td>7921.971435</td>\n",
       "    </tr>\n",
       "    <tr>\n",
       "      <td>14224</td>\n",
       "      <td>7218.792997</td>\n",
       "    </tr>\n",
       "    <tr>\n",
       "      <td>18740</td>\n",
       "      <td>6709.684983</td>\n",
       "    </tr>\n",
       "    <tr>\n",
       "      <td>18134</td>\n",
       "      <td>7783.103541</td>\n",
       "    </tr>\n",
       "    <tr>\n",
       "      <td>12413</td>\n",
       "      <td>8014.691951</td>\n",
       "    </tr>\n",
       "  </tbody>\n",
       "</table>\n",
       "<p>5000 rows × 1 columns</p>\n",
       "</div>"
      ],
      "text/plain": [
       "           cc_cons\n",
       "ID                \n",
       "17591  9293.061572\n",
       "13541  6451.367599\n",
       "13431  8029.676008\n",
       "8687   9160.240623\n",
       "14727  7505.331169\n",
       "...            ...\n",
       "12512  7921.971435\n",
       "14224  7218.792997\n",
       "18740  6709.684983\n",
       "18134  7783.103541\n",
       "12413  8014.691951\n",
       "\n",
       "[5000 rows x 1 columns]"
      ]
     },
     "execution_count": 141,
     "metadata": {},
     "output_type": "execute_result"
    }
   ],
   "source": [
    "submisssion2_xg.set_index('ID')"
   ]
  },
  {
   "cell_type": "code",
   "execution_count": 136,
   "metadata": {
    "scrolled": true
   },
   "outputs": [
    {
     "data": {
      "text/html": [
       "<div>\n",
       "<style scoped>\n",
       "    .dataframe tbody tr th:only-of-type {\n",
       "        vertical-align: middle;\n",
       "    }\n",
       "\n",
       "    .dataframe tbody tr th {\n",
       "        vertical-align: top;\n",
       "    }\n",
       "\n",
       "    .dataframe thead th {\n",
       "        text-align: right;\n",
       "    }\n",
       "</style>\n",
       "<table border=\"1\" class=\"dataframe\">\n",
       "  <thead>\n",
       "    <tr style=\"text-align: right;\">\n",
       "      <th></th>\n",
       "      <th>ID</th>\n",
       "      <th>cc_cons</th>\n",
       "    </tr>\n",
       "  </thead>\n",
       "  <tbody>\n",
       "    <tr>\n",
       "      <td>0</td>\n",
       "      <td>17591</td>\n",
       "      <td>9293.061572</td>\n",
       "    </tr>\n",
       "    <tr>\n",
       "      <td>1</td>\n",
       "      <td>13541</td>\n",
       "      <td>6451.367599</td>\n",
       "    </tr>\n",
       "    <tr>\n",
       "      <td>2</td>\n",
       "      <td>13431</td>\n",
       "      <td>8029.676008</td>\n",
       "    </tr>\n",
       "    <tr>\n",
       "      <td>3</td>\n",
       "      <td>8687</td>\n",
       "      <td>9160.240623</td>\n",
       "    </tr>\n",
       "    <tr>\n",
       "      <td>4</td>\n",
       "      <td>14727</td>\n",
       "      <td>7505.331169</td>\n",
       "    </tr>\n",
       "    <tr>\n",
       "      <td>...</td>\n",
       "      <td>...</td>\n",
       "      <td>...</td>\n",
       "    </tr>\n",
       "    <tr>\n",
       "      <td>4995</td>\n",
       "      <td>12512</td>\n",
       "      <td>7921.971435</td>\n",
       "    </tr>\n",
       "    <tr>\n",
       "      <td>4996</td>\n",
       "      <td>14224</td>\n",
       "      <td>7218.792997</td>\n",
       "    </tr>\n",
       "    <tr>\n",
       "      <td>4997</td>\n",
       "      <td>18740</td>\n",
       "      <td>6709.684983</td>\n",
       "    </tr>\n",
       "    <tr>\n",
       "      <td>4998</td>\n",
       "      <td>18134</td>\n",
       "      <td>7783.103541</td>\n",
       "    </tr>\n",
       "    <tr>\n",
       "      <td>4999</td>\n",
       "      <td>12413</td>\n",
       "      <td>8014.691951</td>\n",
       "    </tr>\n",
       "  </tbody>\n",
       "</table>\n",
       "<p>5000 rows × 2 columns</p>\n",
       "</div>"
      ],
      "text/plain": [
       "         ID      cc_cons\n",
       "0     17591  9293.061572\n",
       "1     13541  6451.367599\n",
       "2     13431  8029.676008\n",
       "3      8687  9160.240623\n",
       "4     14727  7505.331169\n",
       "...     ...          ...\n",
       "4995  12512  7921.971435\n",
       "4996  14224  7218.792997\n",
       "4997  18740  6709.684983\n",
       "4998  18134  7783.103541\n",
       "4999  12413  8014.691951\n",
       "\n",
       "[5000 rows x 2 columns]"
      ]
     },
     "execution_count": 136,
     "metadata": {},
     "output_type": "execute_result"
    }
   ],
   "source": [
    "submisssion2_xg"
   ]
  },
  {
   "cell_type": "code",
   "execution_count": 1,
   "metadata": {},
   "outputs": [
    {
     "ename": "NameError",
     "evalue": "name 'submisssion2_xg' is not defined",
     "output_type": "error",
     "traceback": [
      "\u001b[1;31m---------------------------------------------------------------------------\u001b[0m",
      "\u001b[1;31mNameError\u001b[0m                                 Traceback (most recent call last)",
      "\u001b[1;32m<ipython-input-1-aba88a3fb9a9>\u001b[0m in \u001b[0;36m<module>\u001b[1;34m\u001b[0m\n\u001b[1;32m----> 1\u001b[1;33m \u001b[0msubmisssion2_xg\u001b[0m\u001b[1;33m.\u001b[0m\u001b[0mto_xlxs\u001b[0m\u001b[1;33m(\u001b[0m\u001b[1;34m'Submission_RandomForest1.csv'\u001b[0m\u001b[1;33m)\u001b[0m\u001b[1;33m\u001b[0m\u001b[1;33m\u001b[0m\u001b[0m\n\u001b[0m",
      "\u001b[1;31mNameError\u001b[0m: name 'submisssion2_xg' is not defined"
     ]
    }
   ],
   "source": [
    "submisssion2_xg.to_csv('Submission_RandomForest1.csv')"
   ]
  }
 ],
 "metadata": {
  "kernelspec": {
   "display_name": "Python 3",
   "language": "python",
   "name": "python3"
  },
  "language_info": {
   "codemirror_mode": {
    "name": "ipython",
    "version": 3
   },
   "file_extension": ".py",
   "mimetype": "text/x-python",
   "name": "python",
   "nbconvert_exporter": "python",
   "pygments_lexer": "ipython3",
   "version": "3.7.4"
  }
 },
 "nbformat": 4,
 "nbformat_minor": 2
}
